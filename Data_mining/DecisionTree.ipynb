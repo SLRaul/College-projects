{
 "metadata": {
  "language_info": {
   "codemirror_mode": {
    "name": "ipython",
    "version": 3
   },
   "file_extension": ".py",
   "mimetype": "text/x-python",
   "name": "python",
   "nbconvert_exporter": "python",
   "pygments_lexer": "ipython3",
   "version": "3.8.5-final"
  },
  "orig_nbformat": 2,
  "kernelspec": {
   "name": "python3",
   "display_name": "Python 3",
   "language": "python"
  }
 },
 "nbformat": 4,
 "nbformat_minor": 2,
 "cells": [
  {
   "cell_type": "code",
   "execution_count": 13,
   "metadata": {},
   "outputs": [
    {
     "output_type": "stream",
     "name": "stdout",
     "text": [
      "Numero de Amostras: 569\nNumero de Variáveis: 30\n"
     ]
    }
   ],
   "source": [
    "# Importando pacotes\n",
    "import numpy as np\n",
    "from sklearn import datasets, tree, model_selection\n",
    "from sklearn.tree import export_graphviz\n",
    "from sklearn.metrics import confusion_matrix, accuracy_score\n",
    "\n",
    "# Leitura dos dados - cancer de mama\n",
    "S = datasets.load_breast_cancer()\n",
    "\n",
    "m, n = S.data.shape\n",
    "print('Numero de Amostras:', m)\n",
    "print('Numero de Variáveis:', n)"
   ]
  },
  {
   "cell_type": "code",
   "execution_count": 14,
   "metadata": {},
   "outputs": [
    {
     "output_type": "stream",
     "name": "stdout",
     "text": [
      "Tamanho do conjunto de teste: 57\n"
     ]
    }
   ],
   "source": [
    "# Particao em (treinamento,teste)\n",
    "\n",
    "(Dados_Tre, Dados_Tes, Classe_Tre, Classe_Tes) = model_selection.train_test_split(\n",
    "# separar o banco de dados entre de teste e de treinamento\n",
    "        S.data, S.target,\n",
    "        #divisão dos dados / Semente\n",
    "         train_size=0.9, random_state=44)\n",
    "\n",
    "print('Tamanho do conjunto de teste:', len(Dados_Tes))\n"
   ]
  },
  {
   "cell_type": "code",
   "execution_count": 15,
   "metadata": {},
   "outputs": [],
   "source": [
    "# Construcao e parametrizacao do classificador\n",
    "arvdec = tree.DecisionTreeClassifier()#max_depth=4)#altura maxima da arvore\n",
    "\n"
   ]
  },
  {
   "cell_type": "code",
   "execution_count": 16,
   "metadata": {},
   "outputs": [
    {
     "output_type": "execute_result",
     "data": {
      "text/plain": [
       "DecisionTreeClassifier()"
      ]
     },
     "metadata": {},
     "execution_count": 16
    }
   ],
   "source": [
    "# Fase de treinamento\n",
    "arvdec.fit(Dados_Tre, Classe_Tre)"
   ]
  },
  {
   "cell_type": "code",
   "execution_count": 17,
   "metadata": {},
   "outputs": [],
   "source": [
    "# Classificacao dos exemplos de teste\n",
    "previsao = arvdec.predict(Dados_Tes)"
   ]
  },
  {
   "cell_type": "code",
   "execution_count": 18,
   "metadata": {},
   "outputs": [],
   "source": [
    "# Exportar arvore\n",
    "\n",
    "export_graphviz(arvdec, out_file='tree.dot',\n",
    "#out_file é salvando a arvore em um documento\n",
    "                feature_names = S.feature_names,\n",
    "                class_names = S.target_names,\n",
    "                rounded = True, proportion = False,\n",
    "                precision = 2, filled = True)"
   ]
  },
  {
   "cell_type": "code",
   "execution_count": 19,
   "metadata": {},
   "outputs": [
    {
     "output_type": "stream",
     "name": "stdout",
     "text": [
      "------------------------------------------------\nRelatorio de erros:\n\t t=0,  c=1\n\t t=0,  c=1\n\t t=1,  c=0\n\t t=0,  c=1\n\t Numero de erros: 4\n------------------------------------------------\nConfusion Matrix:\n[[14  1]\n [ 3 39]]\n------------------------------------------------\nAcuracia (percentual de acertos):\n0.9298245614035088\n"
     ]
    }
   ],
   "source": [
    "# Verificar erros\n",
    "\n",
    "print('------------------------------------------------')\n",
    "print('Relatorio de erros:')\n",
    "erros = 0\n",
    "for i in range(len(Classe_Tes)):\n",
    "    if previsao[i] != Classe_Tes[i]:\n",
    "        erros += 1\n",
    "        print('\\t t={0},  c={1}'.format(previsao[i], Classe_Tes[i]))\n",
    "\n",
    "print('\\t Numero de erros:', erros)\n",
    "\n",
    "print('------------------------------------------------')\n",
    "print('Confusion Matrix:')\n",
    "print(confusion_matrix(Classe_Tes, previsao))\n",
    "\n",
    "print('------------------------------------------------')\n",
    "print('Acuracia (percentual de acertos):')\n",
    "print(accuracy_score(Classe_Tes, previsao))"
   ]
  }
 ]
}