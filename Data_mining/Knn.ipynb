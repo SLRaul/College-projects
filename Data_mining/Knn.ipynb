{
 "metadata": {
  "language_info": {
   "codemirror_mode": {
    "name": "ipython",
    "version": 3
   },
   "file_extension": ".py",
   "mimetype": "text/x-python",
   "name": "python",
   "nbconvert_exporter": "python",
   "pygments_lexer": "ipython3",
   "version": "3.8.5-final"
  },
  "orig_nbformat": 2,
  "kernelspec": {
   "name": "python3",
   "display_name": "Python 3",
   "language": "python"
  }
 },
 "nbformat": 4,
 "nbformat_minor": 2,
 "cells": [
  {
   "source": [
    "import numpy as np\n",
    "import pandas as pd\n",
    "from sklearn import datasets\n",
    "from sklearn.neighbors import KNeighborsClassifier\n",
    "from sklearn.metrics import confusion_matrix, accuracy_score"
   ],
   "cell_type": "code",
   "metadata": {},
   "execution_count": 242,
   "outputs": []
  },
  {
   "cell_type": "code",
   "execution_count": 243,
   "metadata": {},
   "outputs": [],
   "source": [
    "iris = datasets.load_iris()\n",
    "\n"
   ]
  },
  {
   "cell_type": "code",
   "execution_count": 244,
   "metadata": {},
   "outputs": [
    {
     "output_type": "stream",
     "name": "stdout",
     "text": [
      "Numero de observações: 150\nNumero de variaveis: 4\n"
     ]
    }
   ],
   "source": [
    "m, n = iris.data.shape\n",
    "print('Numero de observações:', m)\n",
    "print('Numero de variaveis:', n)"
   ]
  },
  {
   "cell_type": "code",
   "execution_count": 245,
   "metadata": {},
   "outputs": [],
   "source": [
    "# organizando os dados para analise descritva\n",
    "irisdf = pd.DataFrame(iris.data)\n",
    "irisdf.columns = ['sepal_length', 'sepal_width', 'petal_length', 'petal_width']\n",
    "specie = pd.DataFrame(iris.target  )\n",
    "specie = specie.rename(columns = {0: 'species'})\n",
    "irisdf = pd.concat([irisdf, specie], axis = 1)\n",
    "\n",
    "#specie = specie[\"species\"].replace({ 0:\"setosa\", 1:\"virginica\", 2:\"virginica\"})"
   ]
  },
  {
   "cell_type": "code",
   "execution_count": 246,
   "metadata": {},
   "outputs": [
    {
     "output_type": "execute_result",
     "data": {
      "text/plain": [
       "species\n",
       "0    50\n",
       "1    50\n",
       "2    50\n",
       "dtype: int64"
      ]
     },
     "metadata": {},
     "execution_count": 246
    }
   ],
   "source": [
    "# Grupos de espécies:\n",
    "specie.groupby(\"species\").size()"
   ]
  },
  {
   "cell_type": "code",
   "execution_count": 247,
   "metadata": {},
   "outputs": [
    {
     "output_type": "execute_result",
     "data": {
      "text/plain": [
       "       sepal_length  sepal_width  petal_length  petal_width     species\n",
       "count    150.000000   150.000000    150.000000   150.000000  150.000000\n",
       "mean       5.843333     3.057333      3.758000     1.199333    1.000000\n",
       "std        0.828066     0.435866      1.765298     0.762238    0.819232\n",
       "min        4.300000     2.000000      1.000000     0.100000    0.000000\n",
       "25%        5.100000     2.800000      1.600000     0.300000    0.000000\n",
       "50%        5.800000     3.000000      4.350000     1.300000    1.000000\n",
       "75%        6.400000     3.300000      5.100000     1.800000    2.000000\n",
       "max        7.900000     4.400000      6.900000     2.500000    2.000000"
      ],
      "text/html": "<div>\n<style scoped>\n    .dataframe tbody tr th:only-of-type {\n        vertical-align: middle;\n    }\n\n    .dataframe tbody tr th {\n        vertical-align: top;\n    }\n\n    .dataframe thead th {\n        text-align: right;\n    }\n</style>\n<table border=\"1\" class=\"dataframe\">\n  <thead>\n    <tr style=\"text-align: right;\">\n      <th></th>\n      <th>sepal_length</th>\n      <th>sepal_width</th>\n      <th>petal_length</th>\n      <th>petal_width</th>\n      <th>species</th>\n    </tr>\n  </thead>\n  <tbody>\n    <tr>\n      <th>count</th>\n      <td>150.000000</td>\n      <td>150.000000</td>\n      <td>150.000000</td>\n      <td>150.000000</td>\n      <td>150.000000</td>\n    </tr>\n    <tr>\n      <th>mean</th>\n      <td>5.843333</td>\n      <td>3.057333</td>\n      <td>3.758000</td>\n      <td>1.199333</td>\n      <td>1.000000</td>\n    </tr>\n    <tr>\n      <th>std</th>\n      <td>0.828066</td>\n      <td>0.435866</td>\n      <td>1.765298</td>\n      <td>0.762238</td>\n      <td>0.819232</td>\n    </tr>\n    <tr>\n      <th>min</th>\n      <td>4.300000</td>\n      <td>2.000000</td>\n      <td>1.000000</td>\n      <td>0.100000</td>\n      <td>0.000000</td>\n    </tr>\n    <tr>\n      <th>25%</th>\n      <td>5.100000</td>\n      <td>2.800000</td>\n      <td>1.600000</td>\n      <td>0.300000</td>\n      <td>0.000000</td>\n    </tr>\n    <tr>\n      <th>50%</th>\n      <td>5.800000</td>\n      <td>3.000000</td>\n      <td>4.350000</td>\n      <td>1.300000</td>\n      <td>1.000000</td>\n    </tr>\n    <tr>\n      <th>75%</th>\n      <td>6.400000</td>\n      <td>3.300000</td>\n      <td>5.100000</td>\n      <td>1.800000</td>\n      <td>2.000000</td>\n    </tr>\n    <tr>\n      <th>max</th>\n      <td>7.900000</td>\n      <td>4.400000</td>\n      <td>6.900000</td>\n      <td>2.500000</td>\n      <td>2.000000</td>\n    </tr>\n  </tbody>\n</table>\n</div>"
     },
     "metadata": {},
     "execution_count": 247
    }
   ],
   "source": [
    "# Descritva básica\n",
    "irisdf.describe()"
   ]
  },
  {
   "cell_type": "code",
   "execution_count": 248,
   "metadata": {},
   "outputs": [],
   "source": [
    "# Particao em (treinamento,teste) com aproximadamente 50% em cada grupo\n",
    "np.random.seed(881)\n",
    "indices = np.random.permutation(m)\n",
    "metade = int(m/2)\n"
   ]
  },
  {
   "cell_type": "code",
   "execution_count": 249,
   "metadata": {},
   "outputs": [],
   "source": [
    "# Indicando os indices dos dados para treinamento e teste\n",
    "indices_treinamento = indices[:metade] # de 0 ate (metade-1)\n",
    "indices_teste = indices[metade:] # de (metade) ate (m-1)\n"
   ]
  },
  {
   "cell_type": "code",
   "execution_count": 250,
   "metadata": {},
   "outputs": [],
   "source": [
    "\n",
    "# Separando Dados de treinamento:\n",
    "Dados_Tre = iris.data[indices_treinamento]\n",
    "Classe_Tre = iris.target[indices_treinamento]"
   ]
  },
  {
   "cell_type": "code",
   "execution_count": 251,
   "metadata": {},
   "outputs": [],
   "source": [
    "# Separando Dados de teste:\n",
    "Dados_Tes = iris.data[indices_teste]\n",
    "Classe_Tes = iris.target[indices_teste]"
   ]
  },
  {
   "cell_type": "code",
   "execution_count": 252,
   "metadata": {},
   "outputs": [
    {
     "output_type": "stream",
     "name": "stdout",
     "text": [
      "\nExemplos de treinamento:\n [ 43 144  14  81 112  41  84 100  17  33  32  47 128 143   3  90 149  75\n  71   8  63 115  82 129  34  85  56  42  58  35   0  61   6  80  65 134\n  38  16  48 131 111  52  69 119 104  21  67 113 141 136 139 108   7  36\n  60  20  74  66  26 102 107  29  54  11 116 148  27  18  15  30  39 124\n   5  59  76]\n\nExemplos de teste:\n [109  83  96  24  73 132  19  70 137 142  88  77 127  46   1 146   9  50\n  37  51  40  87 140  95  25  97 117  93  94  68 105 135 114  31  55  62\n 122  53 106 103  89 145  10  45  99 147  13  92 123  23  28 138 118  57\n 101  72  78 133  49  91  98 126  12 120 130 110  22  44 125   4   2  86\n 121  79  64]\n"
     ]
    }
   ],
   "source": [
    "print('\\nExemplos de treinamento:\\n', indices_treinamento)\n",
    "print('\\nExemplos de teste:\\n', indices_teste)"
   ]
  },
  {
   "cell_type": "code",
   "execution_count": 253,
   "metadata": {},
   "outputs": [],
   "source": [
    "# Construcao e parametrizacao do classificador knn sem pesos\n",
    "knn = KNeighborsClassifier(n_neighbors=5)"
   ]
  },
  {
   "cell_type": "code",
   "execution_count": 254,
   "metadata": {},
   "outputs": [
    {
     "output_type": "execute_result",
     "data": {
      "text/plain": [
       "KNeighborsClassifier()"
      ]
     },
     "metadata": {},
     "execution_count": 254
    }
   ],
   "source": [
    "# Fase de treinamento\n",
    "knn.fit(Dados_Tre, Classe_Tre)"
   ]
  },
  {
   "cell_type": "code",
   "execution_count": 255,
   "metadata": {},
   "outputs": [
    {
     "output_type": "stream",
     "name": "stdout",
     "text": [
      "------------------------------------------------\nRelatorio de erros:\n\t t=2,  c=1\n\t t=1,  c=2\n\t t=1,  c=2\n\t t=1,  c=2\n\t t=1,  c=2\n\t t=1,  c=2\n\t t=1,  c=2\n\t Numero de erros: 7\n------------------------------------------------\nConfusion Matrix:\n[[20  0  0]\n [ 0 27  1]\n [ 0  6 21]]\n------------------------------------------------\nAcuracia (percentual de acertos):\n0.9066666666666666\n"
     ]
    }
   ],
   "source": [
    "# Classificacao dos exemplos de teste\n",
    "previsao = knn.predict(Dados_Tes)\n",
    "\n",
    "#------------------------------------------------------------------------------\n",
    "# Verificar erros\n",
    "print('------------------------------------------------')\n",
    "print('Relatorio de erros:')\n",
    "erros = 0\n",
    "for i in range(len(Classe_Tes)):\n",
    "    if previsao[i] != Classe_Tes[i]:\n",
    "        erros += 1\n",
    "        print('\\t t={0},  c={1}'.format(previsao[i], Classe_Tes[i]))\n",
    "\n",
    "print('\\t Numero de erros:', erros)\n",
    "\n",
    "print('------------------------------------------------')\n",
    "print('Confusion Matrix:')\n",
    "print(confusion_matrix(Classe_Tes, previsao)) # predição . verdadeiro\n",
    "\n",
    "print('------------------------------------------------')\n",
    "print('Acuracia (percentual de acertos):')\n",
    "print(accuracy_score(Classe_Tes, previsao))"
   ]
  },
  {
   "cell_type": "code",
   "execution_count": 256,
   "metadata": {},
   "outputs": [],
   "source": [
    "# construindo knn com pesos\n",
    "knn_d = KNeighborsClassifier(n_neighbors=5, weights='distance')"
   ]
  },
  {
   "cell_type": "code",
   "execution_count": 257,
   "metadata": {},
   "outputs": [
    {
     "output_type": "execute_result",
     "data": {
      "text/plain": [
       "KNeighborsClassifier(weights='distance')"
      ]
     },
     "metadata": {},
     "execution_count": 257
    }
   ],
   "source": [
    "# treinando o algoritmo\n",
    "knn_d.fit(Dados_Tre, Classe_Tre)"
   ]
  },
  {
   "cell_type": "code",
   "execution_count": 258,
   "metadata": {},
   "outputs": [
    {
     "output_type": "stream",
     "name": "stdout",
     "text": [
      "------------------------------------------------\nRelatorio de erros:\n\t t=2,  c=1\n\t t=1,  c=2\n\t t=1,  c=2\n\t t=1,  c=2\n\t t=1,  c=2\n\t t=1,  c=2\n\t Numero de erros: 6\n------------------------------------------------\nConfusion Matrix:\n[[20  0  0]\n [ 0 27  1]\n [ 0  5 22]]\n------------------------------------------------\nAcuracia (percentual de acertos):\n0.92\n"
     ]
    }
   ],
   "source": [
    "# Classificacao dos exemplos de teste\n",
    "previsao_ = knn_d.predict(Dados_Tes)\n",
    "# Verificar erros\n",
    "print('------------------------------------------------')\n",
    "print('Relatorio de erros:')\n",
    "erros = 0\n",
    "for i in range(len(Classe_Tes)):\n",
    "    if previsao_[i] != Classe_Tes[i]:\n",
    "        erros += 1\n",
    "        print('\\t t={0},  c={1}'.format(previsao_[i], Classe_Tes[i]))\n",
    "\n",
    "print('\\t Numero de erros:', erros)\n",
    "\n",
    "print('------------------------------------------------')\n",
    "print('Confusion Matrix:')\n",
    "print(confusion_matrix(Classe_Tes, previsao_)) # predição . verdadeiro\n",
    "\n",
    "print('------------------------------------------------')\n",
    "print('Acuracia (percentual de acertos):')\n",
    "print(accuracy_score(Classe_Tes, previsao_))"
   ]
  },
  {
   "cell_type": "code",
   "execution_count": null,
   "metadata": {},
   "outputs": [],
   "source": []
  }
 ]
}