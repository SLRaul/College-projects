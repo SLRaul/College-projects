{
 "metadata": {
  "language_info": {
   "codemirror_mode": {
    "name": "ipython",
    "version": 3
   },
   "file_extension": ".py",
   "mimetype": "text/x-python",
   "name": "python",
   "nbconvert_exporter": "python",
   "pygments_lexer": "ipython3",
   "version": "3.8.5-final"
  },
  "orig_nbformat": 2,
  "kernelspec": {
   "name": "python3",
   "display_name": "Python 3",
   "language": "python"
  }
 },
 "nbformat": 4,
 "nbformat_minor": 2,
 "cells": [
  {
   "cell_type": "code",
   "execution_count": 27,
   "metadata": {},
   "outputs": [],
   "source": [
    "from sklearn.cluster import KMeans\n",
    "from sklearn.datasets import load_iris\n",
    "import numpy as np"
   ]
  },
  {
   "cell_type": "code",
   "execution_count": 28,
   "metadata": {},
   "outputs": [
    {
     "output_type": "stream",
     "name": "stdout",
     "text": [
      "Numero de observações: 150\nNumero de variaveis: 4\n"
     ]
    }
   ],
   "source": [
    "# fazendo a leitura dos dados\n",
    "iris = load_iris()\n",
    "iris_data = iris.data\n",
    "m, n = iris_data.shape\n",
    "\n",
    "print('Numero de observações:', m)\n",
    "print('Numero de variaveis:', n)"
   ]
  },
  {
   "cell_type": "code",
   "execution_count": 29,
   "metadata": {},
   "outputs": [
    {
     "output_type": "execute_result",
     "data": {
      "text/plain": [
       "KMeans(n_clusters=3, random_state=0)"
      ]
     },
     "metadata": {},
     "execution_count": 29
    }
   ],
   "source": [
    "# ajustando o algoritmo com tres centros e definir onde o centroide começará\n",
    "km = KMeans(n_clusters=3, random_state=0)\n",
    "km.fit(iris_data)"
   ]
  },
  {
   "cell_type": "code",
   "execution_count": 30,
   "metadata": {},
   "outputs": [
    {
     "output_type": "stream",
     "name": "stdout",
     "text": [
      "0 1 0\n1 1 0\n2 1 0\n3 1 0\n4 1 0\n5 1 0\n6 1 0\n7 1 0\n8 1 0\n9 1 0\n10 1 0\n11 1 0\n12 1 0\n13 1 0\n14 1 0\n15 1 0\n16 1 0\n17 1 0\n18 1 0\n19 1 0\n20 1 0\n21 1 0\n22 1 0\n23 1 0\n24 1 0\n25 1 0\n26 1 0\n27 1 0\n28 1 0\n29 1 0\n30 1 0\n31 1 0\n32 1 0\n33 1 0\n34 1 0\n35 1 0\n36 1 0\n37 1 0\n38 1 0\n39 1 0\n40 1 0\n41 1 0\n42 1 0\n43 1 0\n44 1 0\n45 1 0\n46 1 0\n47 1 0\n48 1 0\n49 1 0\n50 0 1\n51 0 1\n52 2 1\n53 0 1\n54 0 1\n55 0 1\n56 0 1\n57 0 1\n58 0 1\n59 0 1\n60 0 1\n61 0 1\n62 0 1\n63 0 1\n64 0 1\n65 0 1\n66 0 1\n67 0 1\n68 0 1\n69 0 1\n70 0 1\n71 0 1\n72 0 1\n73 0 1\n74 0 1\n75 0 1\n76 0 1\n77 2 1\n78 0 1\n79 0 1\n80 0 1\n81 0 1\n82 0 1\n83 0 1\n84 0 1\n85 0 1\n86 0 1\n87 0 1\n88 0 1\n89 0 1\n90 0 1\n91 0 1\n92 0 1\n93 0 1\n94 0 1\n95 0 1\n96 0 1\n97 0 1\n98 0 1\n99 0 1\n100 2 2\n101 0 2\n102 2 2\n103 2 2\n104 2 2\n105 2 2\n106 0 2\n107 2 2\n108 2 2\n109 2 2\n110 2 2\n111 2 2\n112 2 2\n113 0 2\n114 0 2\n115 2 2\n116 2 2\n117 2 2\n118 2 2\n119 0 2\n120 2 2\n121 0 2\n122 2 2\n123 0 2\n124 2 2\n125 2 2\n126 0 2\n127 0 2\n128 2 2\n129 2 2\n130 2 2\n131 2 2\n132 2 2\n133 0 2\n134 2 2\n135 2 2\n136 2 2\n137 2 2\n138 0 2\n139 2 2\n140 2 2\n141 2 2\n142 0 2\n143 2 2\n144 2 2\n145 2 2\n146 0 2\n147 2 2\n148 2 2\n149 0 2\n"
     ]
    }
   ],
   "source": [
    "# Verificando se algoritmo classificou corretamente \n",
    "y_iris = iris.target\n",
    "for i in range(m):\n",
    "    print('{0} {1} {2}'.format(i, km.labels_[i], y_iris[i]))\n"
   ]
  },
  {
   "cell_type": "code",
   "execution_count": 31,
   "metadata": {},
   "outputs": [
    {
     "output_type": "stream",
     "name": "stdout",
     "text": [
      "[[ 0. 50.  0.]\n [48.  0.  2.]\n [14.  0. 36.]]\n"
     ]
    }
   ],
   "source": [
    "# montando uma matriz de frequencia/confusão observa-se que ouve muitos erros na classificação de um de uma das espécies. Isso indicando que existe uma maior aproximação dessas obsevação para a espécie da qual elas não pertencem.\n",
    "\n",
    "Mapa = np.zeros((3,3))\n",
    "for i in range(m):\n",
    "    Mapa[y_iris[i]][km.labels_[i]] += 1\n",
    "print(Mapa)"
   ]
  }
 ]
}