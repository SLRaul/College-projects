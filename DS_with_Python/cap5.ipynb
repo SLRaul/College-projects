{
 "metadata": {
  "language_info": {
   "codemirror_mode": {
    "name": "ipython",
    "version": 3
   },
   "file_extension": ".py",
   "mimetype": "text/x-python",
   "name": "python",
   "nbconvert_exporter": "python",
   "pygments_lexer": "ipython3",
   "version": "3.8.5"
  },
  "orig_nbformat": 2,
  "kernelspec": {
   "name": "python3",
   "display_name": "Python 3",
   "language": "python"
  }
 },
 "nbformat": 4,
 "nbformat_minor": 2,
 "cells": [
  {
   "cell_type": "code",
   "execution_count": 2,
   "metadata": {},
   "outputs": [
    {
     "output_type": "execute_result",
     "data": {
      "text/plain": [
       "RangeIndex(start=0, stop=4, step=1)"
      ]
     },
     "metadata": {},
     "execution_count": 2
    }
   ],
   "source": [
    "# pandas - manipulaçao de dados - datframe\n",
    "import pandas as pd\n",
    "# Series - uma dimensão\n",
    "# DataFrame - tudo\n",
    "# from pandas import Series, DataFrame \n",
    "series_obj = pd.Series([1,2-3,4,-5])\n",
    "series_obj\n",
    "series_obj.index"
   ]
  },
  {
   "cell_type": "code",
   "execution_count": 3,
   "metadata": {},
   "outputs": [
    {
     "output_type": "execute_result",
     "data": {
      "text/plain": [
       "-1"
      ]
     },
     "metadata": {},
     "execution_count": 3
    }
   ],
   "source": [
    "# criando series com index\n",
    "series_obj2 = pd.Series([-1,2-3,4,-5], index=['a','b','c','d'])\n",
    "series_obj2\n",
    "series_obj2.index\n",
    "series_obj2['b']\n"
   ]
  },
  {
   "cell_type": "code",
   "execution_count": 4,
   "metadata": {},
   "outputs": [
    {
     "output_type": "execute_result",
     "data": {
      "text/plain": [
       "a     0.367879\n",
       "b     0.367879\n",
       "c    54.598150\n",
       "d     0.006738\n",
       "dtype: float64"
      ]
     },
     "metadata": {},
     "execution_count": 4
    }
   ],
   "source": [
    "\n",
    "import numpy as np\n",
    "np.exp(series_obj2)\n"
   ]
  },
  {
   "cell_type": "code",
   "execution_count": 5,
   "metadata": {},
   "outputs": [
    {
     "output_type": "stream",
     "name": "stdout",
     "text": [
      "{'Ohio': 35000, 'Texas': 71000, 'Oregon': 16000, 'Utah': 5000} \n-------\nOhio      35000\nTexas     71000\nOregon    16000\nUtah       5000\ndtype: int64\n"
     ]
    }
   ],
   "source": [
    "edata =  {'Ohio': 35000, 'Texas': 71000, 'Oregon': 16000, 'Utah': 5000}\n",
    "print(edata,'\\n-------')\n",
    "bjt3 = pd.Series(edata)\n",
    "print(bjt3)"
   ]
  },
  {
   "cell_type": "code",
   "execution_count": 6,
   "metadata": {},
   "outputs": [
    {
     "output_type": "execute_result",
     "data": {
      "text/plain": [
       "estado\n",
       "California        NaN\n",
       "Ohio          35000.0\n",
       "Oregon        16000.0\n",
       "Texas         71000.0\n",
       "Name: população, dtype: float64"
      ]
     },
     "metadata": {},
     "execution_count": 6
    }
   ],
   "source": [
    "# vet com os estados \n",
    "estados = ['California', 'Ohio', 'Oregon', 'Texas']\n",
    "# selecionando os estados de interesse, se nao tiver aparece vazio\n",
    "objt4 = pd.Series(edata, index=estados)\n",
    "objt4.isnull()\n",
    "\n",
    "# nomeando\n",
    "objt4.name = \"população\"\n",
    "objt4.index.name=\"estado\"\n",
    "objt4"
   ]
  },
  {
   "cell_type": "code",
   "execution_count": 7,
   "metadata": {},
   "outputs": [
    {
     "output_type": "execute_result",
     "data": {
      "text/plain": [
       "    ano    estados   pop\n",
       "0  2000  fortaleza  2.40\n",
       "1  2001  fortaleza  2.90\n",
       "2  2002  fortaleza  3.10\n",
       "3  2000    caucaia  0.50\n",
       "4  2001    caucaia  0.80\n",
       "5  2002    caucaia  0.95"
      ],
      "text/html": "<div>\n<style scoped>\n    .dataframe tbody tr th:only-of-type {\n        vertical-align: middle;\n    }\n\n    .dataframe tbody tr th {\n        vertical-align: top;\n    }\n\n    .dataframe thead th {\n        text-align: right;\n    }\n</style>\n<table border=\"1\" class=\"dataframe\">\n  <thead>\n    <tr style=\"text-align: right;\">\n      <th></th>\n      <th>ano</th>\n      <th>estados</th>\n      <th>pop</th>\n    </tr>\n  </thead>\n  <tbody>\n    <tr>\n      <th>0</th>\n      <td>2000</td>\n      <td>fortaleza</td>\n      <td>2.40</td>\n    </tr>\n    <tr>\n      <th>1</th>\n      <td>2001</td>\n      <td>fortaleza</td>\n      <td>2.90</td>\n    </tr>\n    <tr>\n      <th>2</th>\n      <td>2002</td>\n      <td>fortaleza</td>\n      <td>3.10</td>\n    </tr>\n    <tr>\n      <th>3</th>\n      <td>2000</td>\n      <td>caucaia</td>\n      <td>0.50</td>\n    </tr>\n    <tr>\n      <th>4</th>\n      <td>2001</td>\n      <td>caucaia</td>\n      <td>0.80</td>\n    </tr>\n    <tr>\n      <th>5</th>\n      <td>2002</td>\n      <td>caucaia</td>\n      <td>0.95</td>\n    </tr>\n  </tbody>\n</table>\n</div>"
     },
     "metadata": {},
     "execution_count": 7
    }
   ],
   "source": [
    "# DataFrame - tabela de dados\n",
    "dados_bruto = {'estados':['fortaleza','fortaleza','fortaleza', \"caucaia\", \"caucaia\", \"caucaia\"],\n",
    "        'ano':[2000,2001,2002,2000,2001,2002],\n",
    "        'pop':[2.4,2.9,3.1,0.5,0.8,0.95]}\n",
    "dados = pd.DataFrame(dados_bruto, columns=['ano', 'estados', 'pop']) # para organizar usa columns\n",
    "dados"
   ]
  },
  {
   "cell_type": "code",
   "execution_count": 8,
   "metadata": {},
   "outputs": [
    {
     "output_type": "execute_result",
     "data": {
      "text/plain": [
       "ano           2001\n",
       "estados    caucaia\n",
       "pop            0.8\n",
       "mortes         NaN\n",
       "Name: five, dtype: object"
      ]
     },
     "metadata": {},
     "execution_count": 8
    }
   ],
   "source": [
    "# renomenandoo index\n",
    "dados2 = pd.DataFrame(dados_bruto, columns=['ano', 'estados', 'pop', 'mortes'],\n",
    "index= ['one', 'two', 'three', 'four', 'five', 'six'])\n",
    "dados2\n",
    "dados2.loc['five']\n",
    "\n"
   ]
  },
  {
   "cell_type": "code",
   "execution_count": 9,
   "metadata": {},
   "outputs": [
    {
     "output_type": "execute_result",
     "data": {
      "text/plain": [
       "        ano    estados   pop  mortes   hosp\n",
       "one    2000  fortaleza  2.40     500   True\n",
       "two    2001  fortaleza  2.90     500   True\n",
       "three  2002  fortaleza  3.10     500   True\n",
       "four   2000    caucaia  0.50     500  False\n",
       "five   2001    caucaia  0.80     500  False\n",
       "six    2002    caucaia  0.95     500  False"
      ],
      "text/html": "<div>\n<style scoped>\n    .dataframe tbody tr th:only-of-type {\n        vertical-align: middle;\n    }\n\n    .dataframe tbody tr th {\n        vertical-align: top;\n    }\n\n    .dataframe thead th {\n        text-align: right;\n    }\n</style>\n<table border=\"1\" class=\"dataframe\">\n  <thead>\n    <tr style=\"text-align: right;\">\n      <th></th>\n      <th>ano</th>\n      <th>estados</th>\n      <th>pop</th>\n      <th>mortes</th>\n      <th>hosp</th>\n    </tr>\n  </thead>\n  <tbody>\n    <tr>\n      <th>one</th>\n      <td>2000</td>\n      <td>fortaleza</td>\n      <td>2.40</td>\n      <td>500</td>\n      <td>True</td>\n    </tr>\n    <tr>\n      <th>two</th>\n      <td>2001</td>\n      <td>fortaleza</td>\n      <td>2.90</td>\n      <td>500</td>\n      <td>True</td>\n    </tr>\n    <tr>\n      <th>three</th>\n      <td>2002</td>\n      <td>fortaleza</td>\n      <td>3.10</td>\n      <td>500</td>\n      <td>True</td>\n    </tr>\n    <tr>\n      <th>four</th>\n      <td>2000</td>\n      <td>caucaia</td>\n      <td>0.50</td>\n      <td>500</td>\n      <td>False</td>\n    </tr>\n    <tr>\n      <th>five</th>\n      <td>2001</td>\n      <td>caucaia</td>\n      <td>0.80</td>\n      <td>500</td>\n      <td>False</td>\n    </tr>\n    <tr>\n      <th>six</th>\n      <td>2002</td>\n      <td>caucaia</td>\n      <td>0.95</td>\n      <td>500</td>\n      <td>False</td>\n    </tr>\n  </tbody>\n</table>\n</div>"
     },
     "metadata": {},
     "execution_count": 9
    }
   ],
   "source": [
    "# para add uma coluna com valor repetido\n",
    "dados2['mortes'] = 500\n",
    "dados2\n",
    "# add uma coluna booleana\n",
    "dados2['hosp'] = dados2.estados == 'fortaleza'\n",
    "dados2\n"
   ]
  },
  {
   "cell_type": "code",
   "execution_count": 10,
   "metadata": {},
   "outputs": [
    {
     "output_type": "execute_result",
     "data": {
      "text/plain": [
       "Index(['ano', 'estados', 'pop', 'hosp'], dtype='object')"
      ]
     },
     "metadata": {},
     "execution_count": 10
    }
   ],
   "source": [
    "# para excluir um coluna\n",
    "del dados2['mortes']\n",
    "dados2.columns"
   ]
  },
  {
   "cell_type": "code",
   "execution_count": 11,
   "metadata": {},
   "outputs": [
    {
     "output_type": "execute_result",
     "data": {
      "text/plain": [
       "        2001  2002  2000\n",
       "Nevada   2.4   2.9   NaN\n",
       "Ohio     1.7   3.6   1.5"
      ],
      "text/html": "<div>\n<style scoped>\n    .dataframe tbody tr th:only-of-type {\n        vertical-align: middle;\n    }\n\n    .dataframe tbody tr th {\n        vertical-align: top;\n    }\n\n    .dataframe thead th {\n        text-align: right;\n    }\n</style>\n<table border=\"1\" class=\"dataframe\">\n  <thead>\n    <tr style=\"text-align: right;\">\n      <th></th>\n      <th>2001</th>\n      <th>2002</th>\n      <th>2000</th>\n    </tr>\n  </thead>\n  <tbody>\n    <tr>\n      <th>Nevada</th>\n      <td>2.4</td>\n      <td>2.9</td>\n      <td>NaN</td>\n    </tr>\n    <tr>\n      <th>Ohio</th>\n      <td>1.7</td>\n      <td>3.6</td>\n      <td>1.5</td>\n    </tr>\n  </tbody>\n</table>\n</div>"
     },
     "metadata": {},
     "execution_count": 11
    }
   ],
   "source": [
    "# fazendo um grupo de grupo (dict de dict)\n",
    "popu = {'Nevada': {2001: 2.4, 2002: 2.9},\n",
    "'Ohio': {2000: 1.5, 2001: 1.7, 2002: 3.6}}\n",
    "data3 = pd.DataFrame(popu)\n",
    "data3\n",
    "# fazendo o transposto\n",
    "data3.T\n"
   ]
  },
  {
   "cell_type": "code",
   "execution_count": 12,
   "metadata": {},
   "outputs": [
    {
     "output_type": "execute_result",
     "data": {
      "text/plain": [
       "    one  two\n",
       "a  1.40  NaN\n",
       "b  7.10 -4.5\n",
       "c   NaN  NaN\n",
       "d  0.75 -1.3"
      ],
      "text/html": "<div>\n<style scoped>\n    .dataframe tbody tr th:only-of-type {\n        vertical-align: middle;\n    }\n\n    .dataframe tbody tr th {\n        vertical-align: top;\n    }\n\n    .dataframe thead th {\n        text-align: right;\n    }\n</style>\n<table border=\"1\" class=\"dataframe\">\n  <thead>\n    <tr style=\"text-align: right;\">\n      <th></th>\n      <th>one</th>\n      <th>two</th>\n    </tr>\n  </thead>\n  <tbody>\n    <tr>\n      <th>a</th>\n      <td>1.40</td>\n      <td>NaN</td>\n    </tr>\n    <tr>\n      <th>b</th>\n      <td>7.10</td>\n      <td>-4.5</td>\n    </tr>\n    <tr>\n      <th>c</th>\n      <td>NaN</td>\n      <td>NaN</td>\n    </tr>\n    <tr>\n      <th>d</th>\n      <td>0.75</td>\n      <td>-1.3</td>\n    </tr>\n  </tbody>\n</table>\n</div>"
     },
     "metadata": {},
     "execution_count": 12
    }
   ],
   "source": [
    "dados =  pd.DataFrame([[1.4, np.nan], [7.1, -4.5],\n",
    "[np.nan, np.nan], [0.75, -1.3]],index=['a', 'b', 'c', 'd'],columns=['one', 'two'])\n",
    "dados\n"
   ]
  },
  {
   "cell_type": "code",
   "execution_count": 14,
   "metadata": {},
   "outputs": [
    {
     "output_type": "execute_result",
     "data": {
      "text/plain": [
       "a    1.40\n",
       "b    2.60\n",
       "c    0.00\n",
       "d   -0.55\n",
       "dtype: float64"
      ]
     },
     "metadata": {},
     "execution_count": 14
    }
   ],
   "source": [
    "# precisa definir é feito por coluna\n",
    "# ignora os NA a nao ser que seja uma coluna de NA\n",
    "dados.sum(axis='columns') # axis= 1\n",
    "# skipna = True # por default\n",
    "# level # cria por grupo"
   ]
  },
  {
   "cell_type": "code",
   "execution_count": 16,
   "metadata": {},
   "outputs": [
    {
     "output_type": "execute_result",
     "data": {
      "text/plain": [
       "            one       two\n",
       "count  3.000000  2.000000\n",
       "mean   3.083333 -2.900000\n",
       "std    3.493685  2.262742\n",
       "min    0.750000 -4.500000\n",
       "25%    1.075000 -3.700000\n",
       "50%    1.400000 -2.900000\n",
       "75%    4.250000 -2.100000\n",
       "max    7.100000 -1.300000"
      ],
      "text/html": "<div>\n<style scoped>\n    .dataframe tbody tr th:only-of-type {\n        vertical-align: middle;\n    }\n\n    .dataframe tbody tr th {\n        vertical-align: top;\n    }\n\n    .dataframe thead th {\n        text-align: right;\n    }\n</style>\n<table border=\"1\" class=\"dataframe\">\n  <thead>\n    <tr style=\"text-align: right;\">\n      <th></th>\n      <th>one</th>\n      <th>two</th>\n    </tr>\n  </thead>\n  <tbody>\n    <tr>\n      <th>count</th>\n      <td>3.000000</td>\n      <td>2.000000</td>\n    </tr>\n    <tr>\n      <th>mean</th>\n      <td>3.083333</td>\n      <td>-2.900000</td>\n    </tr>\n    <tr>\n      <th>std</th>\n      <td>3.493685</td>\n      <td>2.262742</td>\n    </tr>\n    <tr>\n      <th>min</th>\n      <td>0.750000</td>\n      <td>-4.500000</td>\n    </tr>\n    <tr>\n      <th>25%</th>\n      <td>1.075000</td>\n      <td>-3.700000</td>\n    </tr>\n    <tr>\n      <th>50%</th>\n      <td>1.400000</td>\n      <td>-2.900000</td>\n    </tr>\n    <tr>\n      <th>75%</th>\n      <td>4.250000</td>\n      <td>-2.100000</td>\n    </tr>\n    <tr>\n      <th>max</th>\n      <td>7.100000</td>\n      <td>-1.300000</td>\n    </tr>\n  </tbody>\n</table>\n</div>"
     },
     "metadata": {},
     "execution_count": 16
    }
   ],
   "source": [
    "dados.cumsum() # acumulado da coluna\n",
    "dados.describe() # o summary do r # funciona para var categoricas"
   ]
  },
  {
   "cell_type": "code",
   "execution_count": 29,
   "metadata": {},
   "outputs": [],
   "source": [
    "import pandas_datareader.data as web # puxando dados\n",
    "\n",
    "# selecionando as empresas (var)\n",
    "todos_dados = {ticker: web.get_data_yahoo(ticker)\n",
    "for ticker in ['AAPL', 'IBM', 'MSFT', 'GOOG']} \n",
    "\n",
    "# seprando o preço\n",
    "preco =  pd.DataFrame({ticker: data['Adj Close']\n",
    "for ticker, data in todos_dados.items()})\n",
    "\n",
    "#separando o volume\n",
    "volume =  pd.DataFrame({ticker: data['Volume']\n",
    "for ticker, data in todos_dados.items()})\n",
    "\n"
   ]
  },
  {
   "cell_type": "code",
   "execution_count": 35,
   "metadata": {},
   "outputs": [
    {
     "output_type": "execute_result",
     "data": {
      "text/plain": [
       "0.534188327281938"
      ]
     },
     "metadata": {},
     "execution_count": 35
    }
   ],
   "source": [
    "preco_pct = preco.pct_change() # colocando em porcentagem\n",
    "preco_pct.tail()\n",
    "\n",
    "# fazendo a corr 2x2\n",
    "preco_pct['MSFT'].corr(preco_pct['IBM'])\n",
    "# podendo ser reescrita # desde que seja um atributo valido do python\n",
    "preco_pct.MSFT.corr(preco_pct.IBM)"
   ]
  },
  {
   "cell_type": "code",
   "execution_count": 37,
   "metadata": {},
   "outputs": [
    {
     "output_type": "execute_result",
     "data": {
      "text/plain": [
       "          AAPL       IBM      MSFT      GOOG\n",
       "AAPL  0.000362  0.000139  0.000237  0.000210\n",
       "IBM   0.000139  0.000268  0.000151  0.000136\n",
       "MSFT  0.000237  0.000151  0.000298  0.000224\n",
       "GOOG  0.000210  0.000136  0.000224  0.000281"
      ],
      "text/html": "<div>\n<style scoped>\n    .dataframe tbody tr th:only-of-type {\n        vertical-align: middle;\n    }\n\n    .dataframe tbody tr th {\n        vertical-align: top;\n    }\n\n    .dataframe thead th {\n        text-align: right;\n    }\n</style>\n<table border=\"1\" class=\"dataframe\">\n  <thead>\n    <tr style=\"text-align: right;\">\n      <th></th>\n      <th>AAPL</th>\n      <th>IBM</th>\n      <th>MSFT</th>\n      <th>GOOG</th>\n    </tr>\n  </thead>\n  <tbody>\n    <tr>\n      <th>AAPL</th>\n      <td>0.000362</td>\n      <td>0.000139</td>\n      <td>0.000237</td>\n      <td>0.000210</td>\n    </tr>\n    <tr>\n      <th>IBM</th>\n      <td>0.000139</td>\n      <td>0.000268</td>\n      <td>0.000151</td>\n      <td>0.000136</td>\n    </tr>\n    <tr>\n      <th>MSFT</th>\n      <td>0.000237</td>\n      <td>0.000151</td>\n      <td>0.000298</td>\n      <td>0.000224</td>\n    </tr>\n    <tr>\n      <th>GOOG</th>\n      <td>0.000210</td>\n      <td>0.000136</td>\n      <td>0.000224</td>\n      <td>0.000281</td>\n    </tr>\n  </tbody>\n</table>\n</div>"
     },
     "metadata": {},
     "execution_count": 37
    }
   ],
   "source": [
    "# fazendo a corr de todas as varr\n",
    "preco_pct.corr()\n",
    "\n",
    "preco_pct.cov()"
   ]
  },
  {
   "cell_type": "code",
   "execution_count": 40,
   "metadata": {},
   "outputs": [
    {
     "output_type": "execute_result",
     "data": {
      "text/plain": [
       "AAPL   -0.054637\n",
       "IBM    -0.098249\n",
       "MSFT   -0.059256\n",
       "GOOG   -0.117042\n",
       "dtype: float64"
      ]
     },
     "metadata": {},
     "execution_count": 40
    }
   ],
   "source": [
    "# retornar de um varr\n",
    "preco_pct.corrwith(preco_pct.IBM)\n",
    "\n",
    "# corr com dois dados\n",
    "preco_pct.corrwith(volume)"
   ]
  }
 ]
}