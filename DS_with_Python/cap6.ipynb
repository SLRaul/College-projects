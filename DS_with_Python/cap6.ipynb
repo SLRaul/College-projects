{
 "metadata": {
  "language_info": {
   "codemirror_mode": {
    "name": "ipython",
    "version": 3
   },
   "file_extension": ".py",
   "mimetype": "text/x-python",
   "name": "python",
   "nbconvert_exporter": "python",
   "pygments_lexer": "ipython3",
   "version": "3.8.5"
  },
  "orig_nbformat": 2,
  "kernelspec": {
   "name": "python3",
   "display_name": "Python 3",
   "language": "python"
  }
 },
 "nbformat": 4,
 "nbformat_minor": 2,
 "cells": [
  {
   "cell_type": "code",
   "execution_count": 1,
   "metadata": {},
   "outputs": [
    {
     "output_type": "execute_result",
     "data": {
      "text/plain": [
       "             Country Code        Indicator Name     Indicator Code  \\\n",
       "Country Name                                                         \n",
       "Kosovo                XKX  GNI per capita (US$)  NY.GNP.MKTP.PC.CD   \n",
       "Yemen, Rep.           YEM  GNI per capita (US$)  NY.GNP.MKTP.PC.CD   \n",
       "South Africa          ZAF  GNI per capita (US$)  NY.GNP.MKTP.PC.CD   \n",
       "Zambia                ZMB  GNI per capita (US$)  NY.GNP.MKTP.PC.CD   \n",
       "Zimbabwe              ZWE  GNI per capita (US$)  NY.GNP.MKTP.PC.CD   \n",
       "\n",
       "                     1990         1991         1992         1993         1994  \\\n",
       "Country Name                                                                    \n",
       "Kosovo                NaN          NaN          NaN          NaN          NaN   \n",
       "Yemen, Rep.    479.184007   466.098922   487.371439   386.347355   285.939176   \n",
       "South Africa  3024.007098  3200.897828  3402.897704  3321.554503  3385.529215   \n",
       "Zambia         373.932878   363.148040   339.183378   348.670393   385.609724   \n",
       "Zimbabwe       815.900413   780.590357   593.651182   569.363250   585.582038   \n",
       "\n",
       "                     1995         1996  ...         2011         2012  \\\n",
       "Country Name                            ...                             \n",
       "Kosovo                NaN          NaN  ...  3828.261031  3706.433608   \n",
       "Yemen, Rep.    273.152217   341.199129  ...  1276.441472  1382.399061   \n",
       "South Africa  3682.482251  3420.725264  ...  7802.620830  7297.817114   \n",
       "Zambia         391.911147   363.096136  ...  1590.403644  1733.209453   \n",
       "Zimbabwe       594.640327   713.455661  ...   938.523191  1136.189459   \n",
       "\n",
       "                     2013         2014         2015         2016         2017  \\\n",
       "Country Name                                                                    \n",
       "Kosovo        3980.264854  4163.930116  3660.572587  3826.023323  4127.859725   \n",
       "Yemen, Rep.   1534.952603  1571.700551  1550.929256  1138.682995   960.528534   \n",
       "South Africa  6653.368184  6261.521355  5592.515426  5127.193610  5948.562599   \n",
       "Zambia        1801.919978  1727.207768  1311.859067  1241.039555  1466.835776   \n",
       "Zimbabwe      1289.360711  1298.572072  1301.574534  1338.020704  1410.406438   \n",
       "\n",
       "                     2018         2019  Unnamed: 34  \n",
       "Country Name                                         \n",
       "Kosovo        4494.408753  4517.744195          NaN  \n",
       "Yemen, Rep.    823.683629   773.905849          NaN  \n",
       "South Africa  6172.569944  5832.192024          NaN  \n",
       "Zambia        1492.930760  1282.634508          NaN  \n",
       "Zimbabwe      1572.589521  1354.401689          NaN  \n",
       "\n",
       "[5 rows x 34 columns]"
      ],
      "text/html": "<div>\n<style scoped>\n    .dataframe tbody tr th:only-of-type {\n        vertical-align: middle;\n    }\n\n    .dataframe tbody tr th {\n        vertical-align: top;\n    }\n\n    .dataframe thead th {\n        text-align: right;\n    }\n</style>\n<table border=\"1\" class=\"dataframe\">\n  <thead>\n    <tr style=\"text-align: right;\">\n      <th></th>\n      <th>Country Code</th>\n      <th>Indicator Name</th>\n      <th>Indicator Code</th>\n      <th>1990</th>\n      <th>1991</th>\n      <th>1992</th>\n      <th>1993</th>\n      <th>1994</th>\n      <th>1995</th>\n      <th>1996</th>\n      <th>...</th>\n      <th>2011</th>\n      <th>2012</th>\n      <th>2013</th>\n      <th>2014</th>\n      <th>2015</th>\n      <th>2016</th>\n      <th>2017</th>\n      <th>2018</th>\n      <th>2019</th>\n      <th>Unnamed: 34</th>\n    </tr>\n    <tr>\n      <th>Country Name</th>\n      <th></th>\n      <th></th>\n      <th></th>\n      <th></th>\n      <th></th>\n      <th></th>\n      <th></th>\n      <th></th>\n      <th></th>\n      <th></th>\n      <th></th>\n      <th></th>\n      <th></th>\n      <th></th>\n      <th></th>\n      <th></th>\n      <th></th>\n      <th></th>\n      <th></th>\n      <th></th>\n      <th></th>\n    </tr>\n  </thead>\n  <tbody>\n    <tr>\n      <th>Kosovo</th>\n      <td>XKX</td>\n      <td>GNI per capita (US$)</td>\n      <td>NY.GNP.MKTP.PC.CD</td>\n      <td>NaN</td>\n      <td>NaN</td>\n      <td>NaN</td>\n      <td>NaN</td>\n      <td>NaN</td>\n      <td>NaN</td>\n      <td>NaN</td>\n      <td>...</td>\n      <td>3828.261031</td>\n      <td>3706.433608</td>\n      <td>3980.264854</td>\n      <td>4163.930116</td>\n      <td>3660.572587</td>\n      <td>3826.023323</td>\n      <td>4127.859725</td>\n      <td>4494.408753</td>\n      <td>4517.744195</td>\n      <td>NaN</td>\n    </tr>\n    <tr>\n      <th>Yemen, Rep.</th>\n      <td>YEM</td>\n      <td>GNI per capita (US$)</td>\n      <td>NY.GNP.MKTP.PC.CD</td>\n      <td>479.184007</td>\n      <td>466.098922</td>\n      <td>487.371439</td>\n      <td>386.347355</td>\n      <td>285.939176</td>\n      <td>273.152217</td>\n      <td>341.199129</td>\n      <td>...</td>\n      <td>1276.441472</td>\n      <td>1382.399061</td>\n      <td>1534.952603</td>\n      <td>1571.700551</td>\n      <td>1550.929256</td>\n      <td>1138.682995</td>\n      <td>960.528534</td>\n      <td>823.683629</td>\n      <td>773.905849</td>\n      <td>NaN</td>\n    </tr>\n    <tr>\n      <th>South Africa</th>\n      <td>ZAF</td>\n      <td>GNI per capita (US$)</td>\n      <td>NY.GNP.MKTP.PC.CD</td>\n      <td>3024.007098</td>\n      <td>3200.897828</td>\n      <td>3402.897704</td>\n      <td>3321.554503</td>\n      <td>3385.529215</td>\n      <td>3682.482251</td>\n      <td>3420.725264</td>\n      <td>...</td>\n      <td>7802.620830</td>\n      <td>7297.817114</td>\n      <td>6653.368184</td>\n      <td>6261.521355</td>\n      <td>5592.515426</td>\n      <td>5127.193610</td>\n      <td>5948.562599</td>\n      <td>6172.569944</td>\n      <td>5832.192024</td>\n      <td>NaN</td>\n    </tr>\n    <tr>\n      <th>Zambia</th>\n      <td>ZMB</td>\n      <td>GNI per capita (US$)</td>\n      <td>NY.GNP.MKTP.PC.CD</td>\n      <td>373.932878</td>\n      <td>363.148040</td>\n      <td>339.183378</td>\n      <td>348.670393</td>\n      <td>385.609724</td>\n      <td>391.911147</td>\n      <td>363.096136</td>\n      <td>...</td>\n      <td>1590.403644</td>\n      <td>1733.209453</td>\n      <td>1801.919978</td>\n      <td>1727.207768</td>\n      <td>1311.859067</td>\n      <td>1241.039555</td>\n      <td>1466.835776</td>\n      <td>1492.930760</td>\n      <td>1282.634508</td>\n      <td>NaN</td>\n    </tr>\n    <tr>\n      <th>Zimbabwe</th>\n      <td>ZWE</td>\n      <td>GNI per capita (US$)</td>\n      <td>NY.GNP.MKTP.PC.CD</td>\n      <td>815.900413</td>\n      <td>780.590357</td>\n      <td>593.651182</td>\n      <td>569.363250</td>\n      <td>585.582038</td>\n      <td>594.640327</td>\n      <td>713.455661</td>\n      <td>...</td>\n      <td>938.523191</td>\n      <td>1136.189459</td>\n      <td>1289.360711</td>\n      <td>1298.572072</td>\n      <td>1301.574534</td>\n      <td>1338.020704</td>\n      <td>1410.406438</td>\n      <td>1572.589521</td>\n      <td>1354.401689</td>\n      <td>NaN</td>\n    </tr>\n  </tbody>\n</table>\n<p>5 rows × 34 columns</p>\n</div>"
     },
     "metadata": {},
     "execution_count": 1
    }
   ],
   "source": [
    "# importando dados\n",
    "import pandas as pd\n",
    "\n",
    "pd.read_table('cakes.txt', sep = \" \")\n",
    "\n",
    "pd.read_table('dados-exem.csv',sep = \",\", skiprows= 4)\n",
    "# https://datacatalog.worldbank.org/search?sort_by=field_wbddh_modified_date&search_api_views_fulltext_op=AND&sort_order=DESC&%20%20%20%20%20%20%20%20%20%20%20%20%20%20%20%20%20%20%20%20%20%20%20%20%20%20%20%20%20%20%20%20%20%20%20%20%20%20%20%20%20%20%20%20%20%20%20%20%20%20%20%20f[0]=field_wbddh_country:115\n",
    "\n",
    "teste = pd.read_csv('dados-exem.csv', skiprows= 4, index_col='Country Name')\n",
    "teste.tail()"
   ]
  },
  {
   "cell_type": "code",
   "execution_count": 2,
   "metadata": {},
   "outputs": [
    {
     "output_type": "execute_result",
     "data": {
      "text/plain": [
       "Country Name         Aruba  Afghanistan       Angola      Albania  \\\n",
       "count            31.000000    14.000000    33.000000    33.000000   \n",
       "unique           31.000000    14.000000    33.000000    33.000000   \n",
       "top           19008.363421   544.260065  2819.722525  4542.867216   \n",
       "freq              1.000000     1.000000     1.000000     1.000000   \n",
       "\n",
       "Country Name            Andorra   Arab World  United Arab Emirates  \\\n",
       "count                         3    33.000000             23.000000   \n",
       "unique                        3    33.000000             23.000000   \n",
       "top           NY.GNP.MKTP.PC.CD  1920.731187          33883.494544   \n",
       "freq                          1     1.000000              1.000000   \n",
       "\n",
       "Country Name     Argentina     Armenia American Samoa  ...  \\\n",
       "count            33.000000   33.000000              3  ...   \n",
       "unique           33.000000   33.000000              3  ...   \n",
       "top           12483.558264  960.901858            ASM  ...   \n",
       "freq              1.000000    1.000000              1  ...   \n",
       "\n",
       "Country Name  Virgin Islands (U.S.)      Vietnam      Vanuatu         World  \\\n",
       "count                             3    33.000000    33.000000     33.000000   \n",
       "unique                            3    33.000000    33.000000     33.000000   \n",
       "top                             VIR  1665.535006  1154.466041  10627.993562   \n",
       "freq                              1     1.000000     1.000000      1.000000   \n",
       "\n",
       "Country Name        Samoa       Kosovo  Yemen, Rep.  South Africa      Zambia  \\\n",
       "count           23.000000    19.000000    33.000000     33.000000   33.000000   \n",
       "unique          23.000000    19.000000    33.000000     33.000000   33.000000   \n",
       "top           4035.580892  3392.295518   960.528534   3200.897828  385.609724   \n",
       "freq             1.000000     1.000000     1.000000      1.000000    1.000000   \n",
       "\n",
       "Country Name    Zimbabwe  \n",
       "count          33.000000  \n",
       "unique         33.000000  \n",
       "top           512.210038  \n",
       "freq            1.000000  \n",
       "\n",
       "[4 rows x 263 columns]"
      ],
      "text/html": "<div>\n<style scoped>\n    .dataframe tbody tr th:only-of-type {\n        vertical-align: middle;\n    }\n\n    .dataframe tbody tr th {\n        vertical-align: top;\n    }\n\n    .dataframe thead th {\n        text-align: right;\n    }\n</style>\n<table border=\"1\" class=\"dataframe\">\n  <thead>\n    <tr style=\"text-align: right;\">\n      <th>Country Name</th>\n      <th>Aruba</th>\n      <th>Afghanistan</th>\n      <th>Angola</th>\n      <th>Albania</th>\n      <th>Andorra</th>\n      <th>Arab World</th>\n      <th>United Arab Emirates</th>\n      <th>Argentina</th>\n      <th>Armenia</th>\n      <th>American Samoa</th>\n      <th>...</th>\n      <th>Virgin Islands (U.S.)</th>\n      <th>Vietnam</th>\n      <th>Vanuatu</th>\n      <th>World</th>\n      <th>Samoa</th>\n      <th>Kosovo</th>\n      <th>Yemen, Rep.</th>\n      <th>South Africa</th>\n      <th>Zambia</th>\n      <th>Zimbabwe</th>\n    </tr>\n  </thead>\n  <tbody>\n    <tr>\n      <th>count</th>\n      <td>31.000000</td>\n      <td>14.000000</td>\n      <td>33.000000</td>\n      <td>33.000000</td>\n      <td>3</td>\n      <td>33.000000</td>\n      <td>23.000000</td>\n      <td>33.000000</td>\n      <td>33.000000</td>\n      <td>3</td>\n      <td>...</td>\n      <td>3</td>\n      <td>33.000000</td>\n      <td>33.000000</td>\n      <td>33.000000</td>\n      <td>23.000000</td>\n      <td>19.000000</td>\n      <td>33.000000</td>\n      <td>33.000000</td>\n      <td>33.000000</td>\n      <td>33.000000</td>\n    </tr>\n    <tr>\n      <th>unique</th>\n      <td>31.000000</td>\n      <td>14.000000</td>\n      <td>33.000000</td>\n      <td>33.000000</td>\n      <td>3</td>\n      <td>33.000000</td>\n      <td>23.000000</td>\n      <td>33.000000</td>\n      <td>33.000000</td>\n      <td>3</td>\n      <td>...</td>\n      <td>3</td>\n      <td>33.000000</td>\n      <td>33.000000</td>\n      <td>33.000000</td>\n      <td>23.000000</td>\n      <td>19.000000</td>\n      <td>33.000000</td>\n      <td>33.000000</td>\n      <td>33.000000</td>\n      <td>33.000000</td>\n    </tr>\n    <tr>\n      <th>top</th>\n      <td>19008.363421</td>\n      <td>544.260065</td>\n      <td>2819.722525</td>\n      <td>4542.867216</td>\n      <td>NY.GNP.MKTP.PC.CD</td>\n      <td>1920.731187</td>\n      <td>33883.494544</td>\n      <td>12483.558264</td>\n      <td>960.901858</td>\n      <td>ASM</td>\n      <td>...</td>\n      <td>VIR</td>\n      <td>1665.535006</td>\n      <td>1154.466041</td>\n      <td>10627.993562</td>\n      <td>4035.580892</td>\n      <td>3392.295518</td>\n      <td>960.528534</td>\n      <td>3200.897828</td>\n      <td>385.609724</td>\n      <td>512.210038</td>\n    </tr>\n    <tr>\n      <th>freq</th>\n      <td>1.000000</td>\n      <td>1.000000</td>\n      <td>1.000000</td>\n      <td>1.000000</td>\n      <td>1</td>\n      <td>1.000000</td>\n      <td>1.000000</td>\n      <td>1.000000</td>\n      <td>1.000000</td>\n      <td>1</td>\n      <td>...</td>\n      <td>1</td>\n      <td>1.000000</td>\n      <td>1.000000</td>\n      <td>1.000000</td>\n      <td>1.000000</td>\n      <td>1.000000</td>\n      <td>1.000000</td>\n      <td>1.000000</td>\n      <td>1.000000</td>\n      <td>1.000000</td>\n    </tr>\n  </tbody>\n</table>\n<p>4 rows × 263 columns</p>\n</div>"
     },
     "metadata": {},
     "execution_count": 2
    }
   ],
   "source": [
    "# descritva por pais\n",
    "teste.T.describe()\n"
   ]
  },
  {
   "cell_type": "code",
   "execution_count": 6,
   "metadata": {},
   "outputs": [
    {
     "output_type": "execute_result",
     "data": {
      "text/plain": [
       "            Bloco     y\n",
       "Adubo Dose             \n",
       "4     2         4  2562\n",
       "      3         1  3742\n",
       "      3         2  2498\n",
       "      3         3  3458\n",
       "      3         4  3076"
      ],
      "text/html": "<div>\n<style scoped>\n    .dataframe tbody tr th:only-of-type {\n        vertical-align: middle;\n    }\n\n    .dataframe tbody tr th {\n        vertical-align: top;\n    }\n\n    .dataframe thead th {\n        text-align: right;\n    }\n</style>\n<table border=\"1\" class=\"dataframe\">\n  <thead>\n    <tr style=\"text-align: right;\">\n      <th></th>\n      <th></th>\n      <th>Bloco</th>\n      <th>y</th>\n    </tr>\n    <tr>\n      <th>Adubo</th>\n      <th>Dose</th>\n      <th></th>\n      <th></th>\n    </tr>\n  </thead>\n  <tbody>\n    <tr>\n      <th rowspan=\"5\" valign=\"top\">4</th>\n      <th>2</th>\n      <td>4</td>\n      <td>2562</td>\n    </tr>\n    <tr>\n      <th>3</th>\n      <td>1</td>\n      <td>3742</td>\n    </tr>\n    <tr>\n      <th>3</th>\n      <td>2</td>\n      <td>2498</td>\n    </tr>\n    <tr>\n      <th>3</th>\n      <td>3</td>\n      <td>3458</td>\n    </tr>\n    <tr>\n      <th>3</th>\n      <td>4</td>\n      <td>3076</td>\n    </tr>\n  </tbody>\n</table>\n</div>"
     },
     "metadata": {},
     "execution_count": 6
    }
   ],
   "source": [
    "teste2 = pd.read_csv('exem3.csv', usecols=['Adubo', 'Dose', 'Bloco','y'], index_col=['Adubo', 'Dose'])\n",
    "teste2.tail()\n"
   ]
  },
  {
   "cell_type": "code",
   "execution_count": 4,
   "metadata": {},
   "outputs": [],
   "source": [
    "testeT = teste.T\n",
    "# escrevendo em csv\n",
    "testeT.to_csv('dados-exem-trans.csv', na_rep=\"\") # na_rep # define como os na sairão"
   ]
  },
  {
   "cell_type": "code",
   "execution_count": 5,
   "metadata": {},
   "outputs": [
    {
     "output_type": "execute_result",
     "data": {
      "text/plain": [
       "           Data Source Sustainable Development Goals             Unnamed: 2  \\\n",
       "0    Last Updated Date                     22/03/2021                   NaN   \n",
       "1                  NaN                            NaN                   NaN   \n",
       "2         Country Name                   Country Code        Indicator Name   \n",
       "3                Aruba                            ABW  GNI per capita (US$)   \n",
       "4          Afghanistan                            AFG  GNI per capita (US$)   \n",
       "..                 ...                            ...                   ...   \n",
       "261             Kosovo                            XKX  GNI per capita (US$)   \n",
       "262        Yemen, Rep.                            YEM  GNI per capita (US$)   \n",
       "263       South Africa                            ZAF  GNI per capita (US$)   \n",
       "264             Zambia                            ZMB  GNI per capita (US$)   \n",
       "265           Zimbabwe                            ZWE  GNI per capita (US$)   \n",
       "\n",
       "            Unnamed: 3        Unnamed: 4        Unnamed: 5        Unnamed: 6  \\\n",
       "0                  NaN               NaN               NaN               NaN   \n",
       "1                  NaN               NaN               NaN               NaN   \n",
       "2       Indicator Code              1990              1991              1992   \n",
       "3    NY.GNP.MKTP.PC.CD  12182,3642225296  13375,8372064515  13904,8637779478   \n",
       "4    NY.GNP.MKTP.PC.CD               NaN               NaN               NaN   \n",
       "..                 ...               ...               ...               ...   \n",
       "261  NY.GNP.MKTP.PC.CD               NaN               NaN               NaN   \n",
       "262  NY.GNP.MKTP.PC.CD  479,184006891568  466,098921942807    487,3714392268   \n",
       "263  NY.GNP.MKTP.PC.CD  3024,00709758272  3200,89782769755  3402,89770365517   \n",
       "264  NY.GNP.MKTP.PC.CD  373,932877853205  363,148040362575  339,183378055712   \n",
       "265  NY.GNP.MKTP.PC.CD  815,900412761333  780,590356984532  593,651182303347   \n",
       "\n",
       "           Unnamed: 7        Unnamed: 8        Unnamed: 9  ...  \\\n",
       "0                 NaN               NaN               NaN  ...   \n",
       "1                 NaN               NaN               NaN  ...   \n",
       "2                1993              1994              1995  ...   \n",
       "3    14690,2602021726  15980,2903279847  16250,1783976014  ...   \n",
       "4                 NaN               NaN               NaN  ...   \n",
       "..                ...               ...               ...  ...   \n",
       "261               NaN               NaN               NaN  ...   \n",
       "262  386,347355273283  285,939175862333  273,152217467605  ...   \n",
       "263  3321,55450294668  3385,52921511006  3682,48225080373  ...   \n",
       "264  348,670393489767  385,609723873738  391,911146944747  ...   \n",
       "265  569,363249887359  585,582037737672  594,640326626362  ...   \n",
       "\n",
       "          Unnamed: 24       Unnamed: 25       Unnamed: 26       Unnamed: 27  \\\n",
       "0                 NaN               NaN               NaN               NaN   \n",
       "1                 NaN               NaN               NaN               NaN   \n",
       "2                2010              2011              2012              2013   \n",
       "3    22132,8375776997  22566,2279372968  23581,7812600772  24594,0244871222   \n",
       "4    544,260065037087  590,518169999352  642,882195510742  639,388564512313   \n",
       "..                ...               ...               ...               ...   \n",
       "261  3337,18946616321  3828,26103108962  3706,43360816876  3980,26485433819   \n",
       "262   1256,2275068653  1276,44147194804  1382,39906141612  1534,95260297943   \n",
       "263  7172,33897546357  7802,62082984521  7297,81711384407  6653,36818402197   \n",
       "264  1389,28279526529  1590,40364400044  1733,20945272721  1801,91997799267   \n",
       "265  835,924574823376   938,52319114872  1136,18945933518  1289,36071068067   \n",
       "\n",
       "          Unnamed: 28       Unnamed: 29       Unnamed: 30       Unnamed: 31  \\\n",
       "0                 NaN               NaN               NaN               NaN   \n",
       "1                 NaN               NaN               NaN               NaN   \n",
       "2                2014              2015              2016              2017   \n",
       "3    25656,8501405019  26785,2950352569  26992,2024657033  27387,9046986736   \n",
       "4    613,785652385012   583,69585593898  514,293114271805  526,726154300307   \n",
       "..                ...               ...               ...               ...   \n",
       "261  4163,93011600995  3660,57258722345  3826,02332337264  4127,85972467632   \n",
       "262  1571,70055127077  1550,92925610527  1138,68299471073  960,528533738514   \n",
       "263  6261,52135475279  5592,51542556436  5127,19361029609  5948,56259866775   \n",
       "264  1727,20776803441  1311,85906740989  1241,03955465711  1466,83577627731   \n",
       "265  1298,57207216391  1301,57453377865  1338,02070362976   1410,4064377075   \n",
       "\n",
       "          Unnamed: 32       Unnamed: 33  \n",
       "0                 NaN               NaN  \n",
       "1                 NaN               NaN  \n",
       "2                2018              2019  \n",
       "3                 NaN               NaN  \n",
       "4    498,881482609395  515,164559368834  \n",
       "..                ...               ...  \n",
       "261  4494,40875284898  4517,74419539797  \n",
       "262  823,683629047097  773,905848677671  \n",
       "263  6172,56994366686  5832,19202376371  \n",
       "264  1492,93075956794  1282,63450816272  \n",
       "265  1572,58952097712   1354,4016893144  \n",
       "\n",
       "[266 rows x 34 columns]"
      ],
      "text/html": "<div>\n<style scoped>\n    .dataframe tbody tr th:only-of-type {\n        vertical-align: middle;\n    }\n\n    .dataframe tbody tr th {\n        vertical-align: top;\n    }\n\n    .dataframe thead th {\n        text-align: right;\n    }\n</style>\n<table border=\"1\" class=\"dataframe\">\n  <thead>\n    <tr style=\"text-align: right;\">\n      <th></th>\n      <th>Data Source</th>\n      <th>Sustainable Development Goals</th>\n      <th>Unnamed: 2</th>\n      <th>Unnamed: 3</th>\n      <th>Unnamed: 4</th>\n      <th>Unnamed: 5</th>\n      <th>Unnamed: 6</th>\n      <th>Unnamed: 7</th>\n      <th>Unnamed: 8</th>\n      <th>Unnamed: 9</th>\n      <th>...</th>\n      <th>Unnamed: 24</th>\n      <th>Unnamed: 25</th>\n      <th>Unnamed: 26</th>\n      <th>Unnamed: 27</th>\n      <th>Unnamed: 28</th>\n      <th>Unnamed: 29</th>\n      <th>Unnamed: 30</th>\n      <th>Unnamed: 31</th>\n      <th>Unnamed: 32</th>\n      <th>Unnamed: 33</th>\n    </tr>\n  </thead>\n  <tbody>\n    <tr>\n      <th>0</th>\n      <td>Last Updated Date</td>\n      <td>22/03/2021</td>\n      <td>NaN</td>\n      <td>NaN</td>\n      <td>NaN</td>\n      <td>NaN</td>\n      <td>NaN</td>\n      <td>NaN</td>\n      <td>NaN</td>\n      <td>NaN</td>\n      <td>...</td>\n      <td>NaN</td>\n      <td>NaN</td>\n      <td>NaN</td>\n      <td>NaN</td>\n      <td>NaN</td>\n      <td>NaN</td>\n      <td>NaN</td>\n      <td>NaN</td>\n      <td>NaN</td>\n      <td>NaN</td>\n    </tr>\n    <tr>\n      <th>1</th>\n      <td>NaN</td>\n      <td>NaN</td>\n      <td>NaN</td>\n      <td>NaN</td>\n      <td>NaN</td>\n      <td>NaN</td>\n      <td>NaN</td>\n      <td>NaN</td>\n      <td>NaN</td>\n      <td>NaN</td>\n      <td>...</td>\n      <td>NaN</td>\n      <td>NaN</td>\n      <td>NaN</td>\n      <td>NaN</td>\n      <td>NaN</td>\n      <td>NaN</td>\n      <td>NaN</td>\n      <td>NaN</td>\n      <td>NaN</td>\n      <td>NaN</td>\n    </tr>\n    <tr>\n      <th>2</th>\n      <td>Country Name</td>\n      <td>Country Code</td>\n      <td>Indicator Name</td>\n      <td>Indicator Code</td>\n      <td>1990</td>\n      <td>1991</td>\n      <td>1992</td>\n      <td>1993</td>\n      <td>1994</td>\n      <td>1995</td>\n      <td>...</td>\n      <td>2010</td>\n      <td>2011</td>\n      <td>2012</td>\n      <td>2013</td>\n      <td>2014</td>\n      <td>2015</td>\n      <td>2016</td>\n      <td>2017</td>\n      <td>2018</td>\n      <td>2019</td>\n    </tr>\n    <tr>\n      <th>3</th>\n      <td>Aruba</td>\n      <td>ABW</td>\n      <td>GNI per capita (US$)</td>\n      <td>NY.GNP.MKTP.PC.CD</td>\n      <td>12182,3642225296</td>\n      <td>13375,8372064515</td>\n      <td>13904,8637779478</td>\n      <td>14690,2602021726</td>\n      <td>15980,2903279847</td>\n      <td>16250,1783976014</td>\n      <td>...</td>\n      <td>22132,8375776997</td>\n      <td>22566,2279372968</td>\n      <td>23581,7812600772</td>\n      <td>24594,0244871222</td>\n      <td>25656,8501405019</td>\n      <td>26785,2950352569</td>\n      <td>26992,2024657033</td>\n      <td>27387,9046986736</td>\n      <td>NaN</td>\n      <td>NaN</td>\n    </tr>\n    <tr>\n      <th>4</th>\n      <td>Afghanistan</td>\n      <td>AFG</td>\n      <td>GNI per capita (US$)</td>\n      <td>NY.GNP.MKTP.PC.CD</td>\n      <td>NaN</td>\n      <td>NaN</td>\n      <td>NaN</td>\n      <td>NaN</td>\n      <td>NaN</td>\n      <td>NaN</td>\n      <td>...</td>\n      <td>544,260065037087</td>\n      <td>590,518169999352</td>\n      <td>642,882195510742</td>\n      <td>639,388564512313</td>\n      <td>613,785652385012</td>\n      <td>583,69585593898</td>\n      <td>514,293114271805</td>\n      <td>526,726154300307</td>\n      <td>498,881482609395</td>\n      <td>515,164559368834</td>\n    </tr>\n    <tr>\n      <th>...</th>\n      <td>...</td>\n      <td>...</td>\n      <td>...</td>\n      <td>...</td>\n      <td>...</td>\n      <td>...</td>\n      <td>...</td>\n      <td>...</td>\n      <td>...</td>\n      <td>...</td>\n      <td>...</td>\n      <td>...</td>\n      <td>...</td>\n      <td>...</td>\n      <td>...</td>\n      <td>...</td>\n      <td>...</td>\n      <td>...</td>\n      <td>...</td>\n      <td>...</td>\n      <td>...</td>\n    </tr>\n    <tr>\n      <th>261</th>\n      <td>Kosovo</td>\n      <td>XKX</td>\n      <td>GNI per capita (US$)</td>\n      <td>NY.GNP.MKTP.PC.CD</td>\n      <td>NaN</td>\n      <td>NaN</td>\n      <td>NaN</td>\n      <td>NaN</td>\n      <td>NaN</td>\n      <td>NaN</td>\n      <td>...</td>\n      <td>3337,18946616321</td>\n      <td>3828,26103108962</td>\n      <td>3706,43360816876</td>\n      <td>3980,26485433819</td>\n      <td>4163,93011600995</td>\n      <td>3660,57258722345</td>\n      <td>3826,02332337264</td>\n      <td>4127,85972467632</td>\n      <td>4494,40875284898</td>\n      <td>4517,74419539797</td>\n    </tr>\n    <tr>\n      <th>262</th>\n      <td>Yemen, Rep.</td>\n      <td>YEM</td>\n      <td>GNI per capita (US$)</td>\n      <td>NY.GNP.MKTP.PC.CD</td>\n      <td>479,184006891568</td>\n      <td>466,098921942807</td>\n      <td>487,3714392268</td>\n      <td>386,347355273283</td>\n      <td>285,939175862333</td>\n      <td>273,152217467605</td>\n      <td>...</td>\n      <td>1256,2275068653</td>\n      <td>1276,44147194804</td>\n      <td>1382,39906141612</td>\n      <td>1534,95260297943</td>\n      <td>1571,70055127077</td>\n      <td>1550,92925610527</td>\n      <td>1138,68299471073</td>\n      <td>960,528533738514</td>\n      <td>823,683629047097</td>\n      <td>773,905848677671</td>\n    </tr>\n    <tr>\n      <th>263</th>\n      <td>South Africa</td>\n      <td>ZAF</td>\n      <td>GNI per capita (US$)</td>\n      <td>NY.GNP.MKTP.PC.CD</td>\n      <td>3024,00709758272</td>\n      <td>3200,89782769755</td>\n      <td>3402,89770365517</td>\n      <td>3321,55450294668</td>\n      <td>3385,52921511006</td>\n      <td>3682,48225080373</td>\n      <td>...</td>\n      <td>7172,33897546357</td>\n      <td>7802,62082984521</td>\n      <td>7297,81711384407</td>\n      <td>6653,36818402197</td>\n      <td>6261,52135475279</td>\n      <td>5592,51542556436</td>\n      <td>5127,19361029609</td>\n      <td>5948,56259866775</td>\n      <td>6172,56994366686</td>\n      <td>5832,19202376371</td>\n    </tr>\n    <tr>\n      <th>264</th>\n      <td>Zambia</td>\n      <td>ZMB</td>\n      <td>GNI per capita (US$)</td>\n      <td>NY.GNP.MKTP.PC.CD</td>\n      <td>373,932877853205</td>\n      <td>363,148040362575</td>\n      <td>339,183378055712</td>\n      <td>348,670393489767</td>\n      <td>385,609723873738</td>\n      <td>391,911146944747</td>\n      <td>...</td>\n      <td>1389,28279526529</td>\n      <td>1590,40364400044</td>\n      <td>1733,20945272721</td>\n      <td>1801,91997799267</td>\n      <td>1727,20776803441</td>\n      <td>1311,85906740989</td>\n      <td>1241,03955465711</td>\n      <td>1466,83577627731</td>\n      <td>1492,93075956794</td>\n      <td>1282,63450816272</td>\n    </tr>\n    <tr>\n      <th>265</th>\n      <td>Zimbabwe</td>\n      <td>ZWE</td>\n      <td>GNI per capita (US$)</td>\n      <td>NY.GNP.MKTP.PC.CD</td>\n      <td>815,900412761333</td>\n      <td>780,590356984532</td>\n      <td>593,651182303347</td>\n      <td>569,363249887359</td>\n      <td>585,582037737672</td>\n      <td>594,640326626362</td>\n      <td>...</td>\n      <td>835,924574823376</td>\n      <td>938,52319114872</td>\n      <td>1136,18945933518</td>\n      <td>1289,36071068067</td>\n      <td>1298,57207216391</td>\n      <td>1301,57453377865</td>\n      <td>1338,02070362976</td>\n      <td>1410,4064377075</td>\n      <td>1572,58952097712</td>\n      <td>1354,4016893144</td>\n    </tr>\n  </tbody>\n</table>\n<p>266 rows × 34 columns</p>\n</div>"
     },
     "metadata": {},
     "execution_count": 5
    }
   ],
   "source": [
    "pd.read_csv('API_NY.csv')\n",
    "# pd.read_excel('Metadata.xlsx')"
   ]
  },
  {
   "cell_type": "code",
   "execution_count": null,
   "metadata": {},
   "outputs": [],
   "source": []
  }
 ]
}