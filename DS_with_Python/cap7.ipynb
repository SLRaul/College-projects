{
 "metadata": {
  "language_info": {
   "codemirror_mode": {
    "name": "ipython",
    "version": 3
   },
   "file_extension": ".py",
   "mimetype": "text/x-python",
   "name": "python",
   "nbconvert_exporter": "python",
   "pygments_lexer": "ipython3",
   "version": "3.8.5"
  },
  "orig_nbformat": 2,
  "kernelspec": {
   "name": "python3",
   "display_name": "Python 3",
   "language": "python"
  }
 },
 "nbformat": 4,
 "nbformat_minor": 2,
 "cells": [
  {
   "cell_type": "code",
   "execution_count": 30,
   "metadata": {},
   "outputs": [
    {
     "output_type": "execute_result",
     "data": {
      "text/plain": [
       "Country Name         Aruba Afghanistan       Angola      Albania Andorra  \\\n",
       "2016          26992.202466  514.293114  3323.228602  4191.208225     NaN   \n",
       "2017          27387.904699  526.726154  3844.088118  4542.867216     NaN   \n",
       "2018                   NaN  498.881483  3035.521121  5278.383442     NaN   \n",
       "2019                   NaN  515.164559  2554.552842  5282.563763     NaN   \n",
       "Unnamed: 34            NaN         NaN          NaN          NaN     NaN   \n",
       "\n",
       "Country Name   Arab World United Arab Emirates     Argentina      Armenia  \\\n",
       "2016          6152.541359         38365.825914  12510.542822  3675.323142   \n",
       "2017          6151.163869         40937.556248  14241.141405  4052.835556   \n",
       "2018          6609.295739         43987.223039  11215.036881  4294.549371   \n",
       "2019          6597.715671         43314.012083   9515.387209  4699.729453   \n",
       "Unnamed: 34           NaN                  NaN           NaN          NaN   \n",
       "\n",
       "Country Name American Samoa  ... Virgin Islands (U.S.)      Vietnam  \\\n",
       "2016                    NaN  ...                   NaN  2100.483689   \n",
       "2017                    NaN  ...                   NaN  2198.063364   \n",
       "2018                    NaN  ...                   NaN  2407.402914   \n",
       "2019                    NaN  ...                   NaN  2557.701509   \n",
       "Unnamed: 34             NaN  ...                   NaN          NaN   \n",
       "\n",
       "Country Name      Vanuatu         World        Samoa       Kosovo  \\\n",
       "2016          2882.284456  10291.725365  4013.552560  3826.023323   \n",
       "2017          3044.048624  10832.881215  4123.440163  4127.859725   \n",
       "2018          3150.258322  11370.120184  4035.580892  4494.408753   \n",
       "2019          3145.049550  11427.769880  4134.648882  4517.744195   \n",
       "Unnamed: 34           NaN           NaN          NaN          NaN   \n",
       "\n",
       "Country Name  Yemen, Rep. South Africa       Zambia     Zimbabwe  \n",
       "2016          1138.682995  5127.193610  1241.039555  1338.020704  \n",
       "2017           960.528534  5948.562599  1466.835776  1410.406438  \n",
       "2018           823.683629  6172.569944  1492.930760  1572.589521  \n",
       "2019           773.905849  5832.192024  1282.634508  1354.401689  \n",
       "Unnamed: 34           NaN          NaN          NaN          NaN  \n",
       "\n",
       "[5 rows x 263 columns]"
      ],
      "text/html": "<div>\n<style scoped>\n    .dataframe tbody tr th:only-of-type {\n        vertical-align: middle;\n    }\n\n    .dataframe tbody tr th {\n        vertical-align: top;\n    }\n\n    .dataframe thead th {\n        text-align: right;\n    }\n</style>\n<table border=\"1\" class=\"dataframe\">\n  <thead>\n    <tr style=\"text-align: right;\">\n      <th>Country Name</th>\n      <th>Aruba</th>\n      <th>Afghanistan</th>\n      <th>Angola</th>\n      <th>Albania</th>\n      <th>Andorra</th>\n      <th>Arab World</th>\n      <th>United Arab Emirates</th>\n      <th>Argentina</th>\n      <th>Armenia</th>\n      <th>American Samoa</th>\n      <th>...</th>\n      <th>Virgin Islands (U.S.)</th>\n      <th>Vietnam</th>\n      <th>Vanuatu</th>\n      <th>World</th>\n      <th>Samoa</th>\n      <th>Kosovo</th>\n      <th>Yemen, Rep.</th>\n      <th>South Africa</th>\n      <th>Zambia</th>\n      <th>Zimbabwe</th>\n    </tr>\n  </thead>\n  <tbody>\n    <tr>\n      <th>2016</th>\n      <td>26992.202466</td>\n      <td>514.293114</td>\n      <td>3323.228602</td>\n      <td>4191.208225</td>\n      <td>NaN</td>\n      <td>6152.541359</td>\n      <td>38365.825914</td>\n      <td>12510.542822</td>\n      <td>3675.323142</td>\n      <td>NaN</td>\n      <td>...</td>\n      <td>NaN</td>\n      <td>2100.483689</td>\n      <td>2882.284456</td>\n      <td>10291.725365</td>\n      <td>4013.552560</td>\n      <td>3826.023323</td>\n      <td>1138.682995</td>\n      <td>5127.193610</td>\n      <td>1241.039555</td>\n      <td>1338.020704</td>\n    </tr>\n    <tr>\n      <th>2017</th>\n      <td>27387.904699</td>\n      <td>526.726154</td>\n      <td>3844.088118</td>\n      <td>4542.867216</td>\n      <td>NaN</td>\n      <td>6151.163869</td>\n      <td>40937.556248</td>\n      <td>14241.141405</td>\n      <td>4052.835556</td>\n      <td>NaN</td>\n      <td>...</td>\n      <td>NaN</td>\n      <td>2198.063364</td>\n      <td>3044.048624</td>\n      <td>10832.881215</td>\n      <td>4123.440163</td>\n      <td>4127.859725</td>\n      <td>960.528534</td>\n      <td>5948.562599</td>\n      <td>1466.835776</td>\n      <td>1410.406438</td>\n    </tr>\n    <tr>\n      <th>2018</th>\n      <td>NaN</td>\n      <td>498.881483</td>\n      <td>3035.521121</td>\n      <td>5278.383442</td>\n      <td>NaN</td>\n      <td>6609.295739</td>\n      <td>43987.223039</td>\n      <td>11215.036881</td>\n      <td>4294.549371</td>\n      <td>NaN</td>\n      <td>...</td>\n      <td>NaN</td>\n      <td>2407.402914</td>\n      <td>3150.258322</td>\n      <td>11370.120184</td>\n      <td>4035.580892</td>\n      <td>4494.408753</td>\n      <td>823.683629</td>\n      <td>6172.569944</td>\n      <td>1492.930760</td>\n      <td>1572.589521</td>\n    </tr>\n    <tr>\n      <th>2019</th>\n      <td>NaN</td>\n      <td>515.164559</td>\n      <td>2554.552842</td>\n      <td>5282.563763</td>\n      <td>NaN</td>\n      <td>6597.715671</td>\n      <td>43314.012083</td>\n      <td>9515.387209</td>\n      <td>4699.729453</td>\n      <td>NaN</td>\n      <td>...</td>\n      <td>NaN</td>\n      <td>2557.701509</td>\n      <td>3145.049550</td>\n      <td>11427.769880</td>\n      <td>4134.648882</td>\n      <td>4517.744195</td>\n      <td>773.905849</td>\n      <td>5832.192024</td>\n      <td>1282.634508</td>\n      <td>1354.401689</td>\n    </tr>\n    <tr>\n      <th>Unnamed: 34</th>\n      <td>NaN</td>\n      <td>NaN</td>\n      <td>NaN</td>\n      <td>NaN</td>\n      <td>NaN</td>\n      <td>NaN</td>\n      <td>NaN</td>\n      <td>NaN</td>\n      <td>NaN</td>\n      <td>NaN</td>\n      <td>...</td>\n      <td>NaN</td>\n      <td>NaN</td>\n      <td>NaN</td>\n      <td>NaN</td>\n      <td>NaN</td>\n      <td>NaN</td>\n      <td>NaN</td>\n      <td>NaN</td>\n      <td>NaN</td>\n      <td>NaN</td>\n    </tr>\n  </tbody>\n</table>\n<p>5 rows × 263 columns</p>\n</div>"
     },
     "metadata": {},
     "execution_count": 30
    }
   ],
   "source": [
    "import pandas as pd \n",
    "\n",
    "tab = pd.read_csv('dados-exem.csv', skiprows= 4, index_col='Country Name')\n",
    "tab = tab.T\n",
    "tab.tail()"
   ]
  },
  {
   "cell_type": "code",
   "execution_count": 31,
   "metadata": {},
   "outputs": [
    {
     "output_type": "execute_result",
     "data": {
      "text/plain": [
       "Country Code                       ABW\n",
       "Indicator Name    GNI per capita (US$)\n",
       "Indicator Code       NY.GNP.MKTP.PC.CD\n",
       "1990                      12182.364223\n",
       "1991                      13375.837206\n",
       "1992                      13904.863778\n",
       "1993                      14690.260202\n",
       "1994                      15980.290328\n",
       "1995                      16250.178398\n",
       "1996                      16371.870971\n",
       "1997                      17656.432067\n",
       "1998                      19014.333289\n",
       "1999                      18876.662192\n",
       "2000                      20356.291676\n",
       "2001                      20052.629357\n",
       "2002                      19008.363421\n",
       "2003                      20283.261996\n",
       "2004                      21817.453884\n",
       "2005                      18514.930763\n",
       "2006                      22995.369457\n",
       "2007                      22034.095311\n",
       "2008                      25933.300638\n",
       "2009                      23754.924508\n",
       "2010                      22132.837578\n",
       "2011                      22566.227937\n",
       "2012                      23581.781260\n",
       "2013                      24594.024487\n",
       "2014                      25656.850141\n",
       "2015                      26785.295035\n",
       "2016                      26992.202466\n",
       "2017                      27387.904699\n",
       "Name: Aruba, dtype: object"
      ]
     },
     "metadata": {},
     "execution_count": 31
    }
   ],
   "source": [
    "# removendo os na/nan\n",
    "tab.Aruba.dropna() # podendo ser reescrito como # tab.Aruba[tab.Aruba.notnull()]"
   ]
  },
  {
   "cell_type": "code",
   "execution_count": 32,
   "metadata": {},
   "outputs": [
    {
     "output_type": "execute_result",
     "data": {
      "text/plain": [
       "Country Name         Aruba Afghanistan       Angola      Albania Andorra  \\\n",
       "2015          26785.295035  583.695856  3955.121324  3999.379563     NaN   \n",
       "2016          26992.202466  514.293114  3323.228602  4191.208225     NaN   \n",
       "2017          27387.904699  526.726154  3844.088118  4542.867216     NaN   \n",
       "2018                   NaN  498.881483  3035.521121  5278.383442     NaN   \n",
       "2019                   NaN  515.164559  2554.552842  5282.563763     NaN   \n",
       "\n",
       "Country Name   Arab World United Arab Emirates     Argentina      Armenia  \\\n",
       "2015          6423.310670         38851.519498  13508.419413  3753.733122   \n",
       "2016          6152.541359         38365.825914  12510.542822  3675.323142   \n",
       "2017          6151.163869         40937.556248  14241.141405  4052.835556   \n",
       "2018          6609.295739         43987.223039  11215.036881  4294.549371   \n",
       "2019          6597.715671         43314.012083   9515.387209  4699.729453   \n",
       "\n",
       "Country Name American Samoa  ... Virgin Islands (U.S.)      Vietnam  \\\n",
       "2015                    NaN  ...                   NaN  1978.056618   \n",
       "2016                    NaN  ...                   NaN  2100.483689   \n",
       "2017                    NaN  ...                   NaN  2198.063364   \n",
       "2018                    NaN  ...                   NaN  2407.402914   \n",
       "2019                    NaN  ...                   NaN  2557.701509   \n",
       "\n",
       "Country Name      Vanuatu         World        Samoa       Kosovo  \\\n",
       "2015          2810.178701  10276.773769  3990.709868  3660.572587   \n",
       "2016          2882.284456  10291.725365  4013.552560  3826.023323   \n",
       "2017          3044.048624  10832.881215  4123.440163  4127.859725   \n",
       "2018          3150.258322  11370.120184  4035.580892  4494.408753   \n",
       "2019          3145.049550  11427.769880  4134.648882  4517.744195   \n",
       "\n",
       "Country Name  Yemen, Rep. South Africa       Zambia     Zimbabwe  \n",
       "2015          1550.929256  5592.515426  1311.859067  1301.574534  \n",
       "2016          1138.682995  5127.193610  1241.039555  1338.020704  \n",
       "2017           960.528534  5948.562599  1466.835776  1410.406438  \n",
       "2018           823.683629  6172.569944  1492.930760  1572.589521  \n",
       "2019           773.905849  5832.192024  1282.634508  1354.401689  \n",
       "\n",
       "[5 rows x 263 columns]"
      ],
      "text/html": "<div>\n<style scoped>\n    .dataframe tbody tr th:only-of-type {\n        vertical-align: middle;\n    }\n\n    .dataframe tbody tr th {\n        vertical-align: top;\n    }\n\n    .dataframe thead th {\n        text-align: right;\n    }\n</style>\n<table border=\"1\" class=\"dataframe\">\n  <thead>\n    <tr style=\"text-align: right;\">\n      <th>Country Name</th>\n      <th>Aruba</th>\n      <th>Afghanistan</th>\n      <th>Angola</th>\n      <th>Albania</th>\n      <th>Andorra</th>\n      <th>Arab World</th>\n      <th>United Arab Emirates</th>\n      <th>Argentina</th>\n      <th>Armenia</th>\n      <th>American Samoa</th>\n      <th>...</th>\n      <th>Virgin Islands (U.S.)</th>\n      <th>Vietnam</th>\n      <th>Vanuatu</th>\n      <th>World</th>\n      <th>Samoa</th>\n      <th>Kosovo</th>\n      <th>Yemen, Rep.</th>\n      <th>South Africa</th>\n      <th>Zambia</th>\n      <th>Zimbabwe</th>\n    </tr>\n  </thead>\n  <tbody>\n    <tr>\n      <th>2015</th>\n      <td>26785.295035</td>\n      <td>583.695856</td>\n      <td>3955.121324</td>\n      <td>3999.379563</td>\n      <td>NaN</td>\n      <td>6423.310670</td>\n      <td>38851.519498</td>\n      <td>13508.419413</td>\n      <td>3753.733122</td>\n      <td>NaN</td>\n      <td>...</td>\n      <td>NaN</td>\n      <td>1978.056618</td>\n      <td>2810.178701</td>\n      <td>10276.773769</td>\n      <td>3990.709868</td>\n      <td>3660.572587</td>\n      <td>1550.929256</td>\n      <td>5592.515426</td>\n      <td>1311.859067</td>\n      <td>1301.574534</td>\n    </tr>\n    <tr>\n      <th>2016</th>\n      <td>26992.202466</td>\n      <td>514.293114</td>\n      <td>3323.228602</td>\n      <td>4191.208225</td>\n      <td>NaN</td>\n      <td>6152.541359</td>\n      <td>38365.825914</td>\n      <td>12510.542822</td>\n      <td>3675.323142</td>\n      <td>NaN</td>\n      <td>...</td>\n      <td>NaN</td>\n      <td>2100.483689</td>\n      <td>2882.284456</td>\n      <td>10291.725365</td>\n      <td>4013.552560</td>\n      <td>3826.023323</td>\n      <td>1138.682995</td>\n      <td>5127.193610</td>\n      <td>1241.039555</td>\n      <td>1338.020704</td>\n    </tr>\n    <tr>\n      <th>2017</th>\n      <td>27387.904699</td>\n      <td>526.726154</td>\n      <td>3844.088118</td>\n      <td>4542.867216</td>\n      <td>NaN</td>\n      <td>6151.163869</td>\n      <td>40937.556248</td>\n      <td>14241.141405</td>\n      <td>4052.835556</td>\n      <td>NaN</td>\n      <td>...</td>\n      <td>NaN</td>\n      <td>2198.063364</td>\n      <td>3044.048624</td>\n      <td>10832.881215</td>\n      <td>4123.440163</td>\n      <td>4127.859725</td>\n      <td>960.528534</td>\n      <td>5948.562599</td>\n      <td>1466.835776</td>\n      <td>1410.406438</td>\n    </tr>\n    <tr>\n      <th>2018</th>\n      <td>NaN</td>\n      <td>498.881483</td>\n      <td>3035.521121</td>\n      <td>5278.383442</td>\n      <td>NaN</td>\n      <td>6609.295739</td>\n      <td>43987.223039</td>\n      <td>11215.036881</td>\n      <td>4294.549371</td>\n      <td>NaN</td>\n      <td>...</td>\n      <td>NaN</td>\n      <td>2407.402914</td>\n      <td>3150.258322</td>\n      <td>11370.120184</td>\n      <td>4035.580892</td>\n      <td>4494.408753</td>\n      <td>823.683629</td>\n      <td>6172.569944</td>\n      <td>1492.930760</td>\n      <td>1572.589521</td>\n    </tr>\n    <tr>\n      <th>2019</th>\n      <td>NaN</td>\n      <td>515.164559</td>\n      <td>2554.552842</td>\n      <td>5282.563763</td>\n      <td>NaN</td>\n      <td>6597.715671</td>\n      <td>43314.012083</td>\n      <td>9515.387209</td>\n      <td>4699.729453</td>\n      <td>NaN</td>\n      <td>...</td>\n      <td>NaN</td>\n      <td>2557.701509</td>\n      <td>3145.049550</td>\n      <td>11427.769880</td>\n      <td>4134.648882</td>\n      <td>4517.744195</td>\n      <td>773.905849</td>\n      <td>5832.192024</td>\n      <td>1282.634508</td>\n      <td>1354.401689</td>\n    </tr>\n  </tbody>\n</table>\n<p>5 rows × 263 columns</p>\n</div>"
     },
     "metadata": {},
     "execution_count": 32
    }
   ],
   "source": [
    "# remove apenas as linhas vazias (na/nan)\n",
    "tab.dropna(how='all').tail()"
   ]
  },
  {
   "cell_type": "code",
   "execution_count": 33,
   "metadata": {},
   "outputs": [
    {
     "output_type": "execute_result",
     "data": {
      "text/plain": [
       "Country Name         Aruba Afghanistan       Angola      Albania Andorra  \\\n",
       "2016          26992.202466  514.293114  3323.228602  4191.208225     NaN   \n",
       "2017          27387.904699  526.726154  3844.088118  4542.867216     NaN   \n",
       "2018                   NaN  498.881483  3035.521121  5278.383442     NaN   \n",
       "2019                   NaN  515.164559  2554.552842  5282.563763     NaN   \n",
       "Unnamed: 34            NaN         NaN          NaN          NaN     NaN   \n",
       "\n",
       "Country Name   Arab World United Arab Emirates     Argentina      Armenia  \\\n",
       "2016          6152.541359         38365.825914  12510.542822  3675.323142   \n",
       "2017          6151.163869         40937.556248  14241.141405  4052.835556   \n",
       "2018          6609.295739         43987.223039  11215.036881  4294.549371   \n",
       "2019          6597.715671         43314.012083   9515.387209  4699.729453   \n",
       "Unnamed: 34           NaN                  NaN           NaN          NaN   \n",
       "\n",
       "Country Name American Samoa  ... Virgin Islands (U.S.)      Vietnam  \\\n",
       "2016                    NaN  ...                   NaN  2100.483689   \n",
       "2017                    NaN  ...                   NaN  2198.063364   \n",
       "2018                    NaN  ...                   NaN  2407.402914   \n",
       "2019                    NaN  ...                   NaN  2557.701509   \n",
       "Unnamed: 34             NaN  ...                   NaN          NaN   \n",
       "\n",
       "Country Name      Vanuatu         World        Samoa       Kosovo  \\\n",
       "2016          2882.284456  10291.725365  4013.552560  3826.023323   \n",
       "2017          3044.048624  10832.881215  4123.440163  4127.859725   \n",
       "2018          3150.258322  11370.120184  4035.580892  4494.408753   \n",
       "2019          3145.049550  11427.769880  4134.648882  4517.744195   \n",
       "Unnamed: 34           NaN           NaN          NaN          NaN   \n",
       "\n",
       "Country Name  Yemen, Rep. South Africa       Zambia     Zimbabwe  \n",
       "2016          1138.682995  5127.193610  1241.039555  1338.020704  \n",
       "2017           960.528534  5948.562599  1466.835776  1410.406438  \n",
       "2018           823.683629  6172.569944  1492.930760  1572.589521  \n",
       "2019           773.905849  5832.192024  1282.634508  1354.401689  \n",
       "Unnamed: 34           NaN          NaN          NaN          NaN  \n",
       "\n",
       "[5 rows x 263 columns]"
      ],
      "text/html": "<div>\n<style scoped>\n    .dataframe tbody tr th:only-of-type {\n        vertical-align: middle;\n    }\n\n    .dataframe tbody tr th {\n        vertical-align: top;\n    }\n\n    .dataframe thead th {\n        text-align: right;\n    }\n</style>\n<table border=\"1\" class=\"dataframe\">\n  <thead>\n    <tr style=\"text-align: right;\">\n      <th>Country Name</th>\n      <th>Aruba</th>\n      <th>Afghanistan</th>\n      <th>Angola</th>\n      <th>Albania</th>\n      <th>Andorra</th>\n      <th>Arab World</th>\n      <th>United Arab Emirates</th>\n      <th>Argentina</th>\n      <th>Armenia</th>\n      <th>American Samoa</th>\n      <th>...</th>\n      <th>Virgin Islands (U.S.)</th>\n      <th>Vietnam</th>\n      <th>Vanuatu</th>\n      <th>World</th>\n      <th>Samoa</th>\n      <th>Kosovo</th>\n      <th>Yemen, Rep.</th>\n      <th>South Africa</th>\n      <th>Zambia</th>\n      <th>Zimbabwe</th>\n    </tr>\n  </thead>\n  <tbody>\n    <tr>\n      <th>2016</th>\n      <td>26992.202466</td>\n      <td>514.293114</td>\n      <td>3323.228602</td>\n      <td>4191.208225</td>\n      <td>NaN</td>\n      <td>6152.541359</td>\n      <td>38365.825914</td>\n      <td>12510.542822</td>\n      <td>3675.323142</td>\n      <td>NaN</td>\n      <td>...</td>\n      <td>NaN</td>\n      <td>2100.483689</td>\n      <td>2882.284456</td>\n      <td>10291.725365</td>\n      <td>4013.552560</td>\n      <td>3826.023323</td>\n      <td>1138.682995</td>\n      <td>5127.193610</td>\n      <td>1241.039555</td>\n      <td>1338.020704</td>\n    </tr>\n    <tr>\n      <th>2017</th>\n      <td>27387.904699</td>\n      <td>526.726154</td>\n      <td>3844.088118</td>\n      <td>4542.867216</td>\n      <td>NaN</td>\n      <td>6151.163869</td>\n      <td>40937.556248</td>\n      <td>14241.141405</td>\n      <td>4052.835556</td>\n      <td>NaN</td>\n      <td>...</td>\n      <td>NaN</td>\n      <td>2198.063364</td>\n      <td>3044.048624</td>\n      <td>10832.881215</td>\n      <td>4123.440163</td>\n      <td>4127.859725</td>\n      <td>960.528534</td>\n      <td>5948.562599</td>\n      <td>1466.835776</td>\n      <td>1410.406438</td>\n    </tr>\n    <tr>\n      <th>2018</th>\n      <td>NaN</td>\n      <td>498.881483</td>\n      <td>3035.521121</td>\n      <td>5278.383442</td>\n      <td>NaN</td>\n      <td>6609.295739</td>\n      <td>43987.223039</td>\n      <td>11215.036881</td>\n      <td>4294.549371</td>\n      <td>NaN</td>\n      <td>...</td>\n      <td>NaN</td>\n      <td>2407.402914</td>\n      <td>3150.258322</td>\n      <td>11370.120184</td>\n      <td>4035.580892</td>\n      <td>4494.408753</td>\n      <td>823.683629</td>\n      <td>6172.569944</td>\n      <td>1492.930760</td>\n      <td>1572.589521</td>\n    </tr>\n    <tr>\n      <th>2019</th>\n      <td>NaN</td>\n      <td>515.164559</td>\n      <td>2554.552842</td>\n      <td>5282.563763</td>\n      <td>NaN</td>\n      <td>6597.715671</td>\n      <td>43314.012083</td>\n      <td>9515.387209</td>\n      <td>4699.729453</td>\n      <td>NaN</td>\n      <td>...</td>\n      <td>NaN</td>\n      <td>2557.701509</td>\n      <td>3145.049550</td>\n      <td>11427.769880</td>\n      <td>4134.648882</td>\n      <td>4517.744195</td>\n      <td>773.905849</td>\n      <td>5832.192024</td>\n      <td>1282.634508</td>\n      <td>1354.401689</td>\n    </tr>\n    <tr>\n      <th>Unnamed: 34</th>\n      <td>NaN</td>\n      <td>NaN</td>\n      <td>NaN</td>\n      <td>NaN</td>\n      <td>NaN</td>\n      <td>NaN</td>\n      <td>NaN</td>\n      <td>NaN</td>\n      <td>NaN</td>\n      <td>NaN</td>\n      <td>...</td>\n      <td>NaN</td>\n      <td>NaN</td>\n      <td>NaN</td>\n      <td>NaN</td>\n      <td>NaN</td>\n      <td>NaN</td>\n      <td>NaN</td>\n      <td>NaN</td>\n      <td>NaN</td>\n      <td>NaN</td>\n    </tr>\n  </tbody>\n</table>\n<p>5 rows × 263 columns</p>\n</div>"
     },
     "metadata": {},
     "execution_count": 33
    }
   ],
   "source": [
    "# para remover apenas as colunas vazias\n",
    "tab.dropna(axis=1, how='all').tail()"
   ]
  },
  {
   "cell_type": "code",
   "execution_count": 62,
   "metadata": {},
   "outputs": [
    {
     "output_type": "stream",
     "name": "stdout",
     "text": [
      "          0         1         2\n0       NaN -1.782069       NaN\n1       NaN       NaN -1.040044\n2 -1.166824  1.092271       NaN\n3 -0.520168       NaN -0.679283\n4 -0.654353  0.471911       NaN\n5 -0.034597       NaN -0.640685\n6  0.118100 -1.177406       NaN \n-------------------------------\n"
     ]
    },
    {
     "output_type": "execute_result",
     "data": {
      "text/plain": [
       "          0         1         2\n",
       "2 -1.166824  1.092271       NaN\n",
       "3 -0.520168       NaN -0.679283\n",
       "4 -0.654353  0.471911       NaN\n",
       "5 -0.034597       NaN -0.640685\n",
       "6  0.118100 -1.177406       NaN"
      ],
      "text/html": "<div>\n<style scoped>\n    .dataframe tbody tr th:only-of-type {\n        vertical-align: middle;\n    }\n\n    .dataframe tbody tr th {\n        vertical-align: top;\n    }\n\n    .dataframe thead th {\n        text-align: right;\n    }\n</style>\n<table border=\"1\" class=\"dataframe\">\n  <thead>\n    <tr style=\"text-align: right;\">\n      <th></th>\n      <th>0</th>\n      <th>1</th>\n      <th>2</th>\n    </tr>\n  </thead>\n  <tbody>\n    <tr>\n      <th>2</th>\n      <td>-1.166824</td>\n      <td>1.092271</td>\n      <td>NaN</td>\n    </tr>\n    <tr>\n      <th>3</th>\n      <td>-0.520168</td>\n      <td>NaN</td>\n      <td>-0.679283</td>\n    </tr>\n    <tr>\n      <th>4</th>\n      <td>-0.654353</td>\n      <td>0.471911</td>\n      <td>NaN</td>\n    </tr>\n    <tr>\n      <th>5</th>\n      <td>-0.034597</td>\n      <td>NaN</td>\n      <td>-0.640685</td>\n    </tr>\n    <tr>\n      <th>6</th>\n      <td>0.118100</td>\n      <td>-1.177406</td>\n      <td>NaN</td>\n    </tr>\n  </tbody>\n</table>\n</div>"
     },
     "metadata": {},
     "execution_count": 62
    }
   ],
   "source": [
    "# selecionando linhas com uma ceta quantidade de observações\n",
    "import numpy as np \n",
    "from numpy import nan as NA\n",
    "\n",
    "exem = pd.DataFrame(np.random.randn(7, 3))\n",
    "exem.iloc[(0,2,4,6), 2] = NA\n",
    "exem.iloc[(1,3,5), 1] = NA\n",
    "exem.iloc[:2, 0] = NA\n",
    "\n",
    "print(exem, '\\n-------------------------------')\n",
    "\n",
    "exem.dropna(thresh=2) # permanece apenas linhas com duas observações"
   ]
  },
  {
   "cell_type": "code",
   "execution_count": 59,
   "metadata": {},
   "outputs": [
    {
     "output_type": "stream",
     "name": "stdout",
     "text": [
      "          0         1         2\n0  0.000000  0.238143  0.000000\n1  0.000000  0.000000 -0.529343\n2  0.016471  0.034575  0.000000\n3  0.358246  0.000000 -0.296240\n4  0.692875  0.415993  0.000000\n5  1.193525  0.000000 -0.397192\n6  0.568381 -0.711192  0.000000 \n-------------------------------\n           0         1         2\n0       NaN  0.238143  1.500000\n1       NaN  0.500000 -0.529343\n2  0.016471  0.034575  1.500000\n3  0.358246  0.500000 -0.296240\n4  0.692875  0.415993  1.500000\n5  1.193525  0.500000 -0.397192\n6  0.568381 -0.711192  1.500000\n"
     ]
    }
   ],
   "source": [
    "# preenchendo dados faltantes\n",
    "print(\n",
    "exem.fillna(0), # como mesmo valor #outra maneira exem.filna(0,inplace=True)\n",
    "'\\n-------------------------------\\n',\n",
    "exem.fillna({1:0,1:0.5,2:1.5, }) # com cada coluna tendo valores diferens\n",
    ") "
   ]
  },
  {
   "cell_type": "code",
   "execution_count": 69,
   "metadata": {},
   "outputs": [
    {
     "output_type": "execute_result",
     "data": {
      "text/plain": [
       "0     False\n",
       "1     False\n",
       "2     False\n",
       "3     False\n",
       "4     False\n",
       "5     False\n",
       "6     False\n",
       "7     False\n",
       "8     False\n",
       "9     False\n",
       "10    False\n",
       "11    False\n",
       "12    False\n",
       "13    False\n",
       "14    False\n",
       "15    False\n",
       "16    False\n",
       "17    False\n",
       "18    False\n",
       "19    False\n",
       "20    False\n",
       "21    False\n",
       "22    False\n",
       "23    False\n",
       "24    False\n",
       "25    False\n",
       "26    False\n",
       "27    False\n",
       "28    False\n",
       "29    False\n",
       "30    False\n",
       "31    False\n",
       "32    False\n",
       "33    False\n",
       "34    False\n",
       "35    False\n",
       "36    False\n",
       "37    False\n",
       "38    False\n",
       "39    False\n",
       "40    False\n",
       "41    False\n",
       "42    False\n",
       "43    False\n",
       "44    False\n",
       "45    False\n",
       "46    False\n",
       "47    False\n",
       "dtype: bool"
      ]
     },
     "metadata": {},
     "execution_count": 69
    }
   ],
   "source": [
    "exem2 = pd.read_csv('exem3.csv', usecols=['Adubo', 'Dose', 'Bloco','y'])\n",
    "exem2.duplicated()\n"
   ]
  },
  {
   "cell_type": "code",
   "execution_count": 80,
   "metadata": {},
   "outputs": [
    {
     "output_type": "execute_result",
     "data": {
      "text/plain": [
       "    Adubo  Dose  Bloco     y\n",
       "0       1     1      1  2747\n",
       "1       1     1      2  2702\n",
       "2       1     1      3  2671\n",
       "3       1     1      4  2547\n",
       "4       1     2      1  2889\n",
       "5       1     2      2  2731\n",
       "6       1     2      3  2633\n",
       "7       1     2      4  2756\n",
       "8       1     3      1  3578\n",
       "9       1     3      2  3387\n",
       "10      1     3      3  3858\n",
       "11      1     3      4  4284\n",
       "12      2     1      1  3164\n",
       "13      2     1      2  2658\n",
       "14      2     1      3  3600\n",
       "15      2     1      4  2760\n",
       "16      2     2      1  3831\n",
       "17      2     2      2  3049\n",
       "18      2     2      3  4182\n",
       "19      2     2      4  3102\n",
       "20      2     3      1  4107\n",
       "21      2     3      2  3031\n",
       "22      2     3      3  3791\n",
       "23      2     3      4  3547\n",
       "24      3     1      1  1902\n",
       "25      3     1      2  1773\n",
       "26      3     1      3  3440\n",
       "27      3     1      4  2347\n",
       "28      3     2      1  2547\n",
       "29      3     2      2  2642\n",
       "30      3     2      3  3347\n",
       "31      3     2      4  2924\n",
       "32      3     3      1  3364\n",
       "33      3     3      2  2427\n",
       "34      3     3      3  4053\n",
       "35      3     3      4  3111\n",
       "36      4     1      1  2978\n",
       "37      4     1      2  2769\n",
       "38      4     1      3  2640\n",
       "39      4     1      4  2542\n",
       "40      4     2      1  3451\n",
       "41      4     2      2  2258\n",
       "42      4     2      3  2478\n",
       "43      4     2      4  2562\n",
       "44      4     3      1  3742\n",
       "45      4     3      2  2498\n",
       "46      4     3      3  3458\n",
       "47      4     3      4  3076"
      ],
      "text/html": "<div>\n<style scoped>\n    .dataframe tbody tr th:only-of-type {\n        vertical-align: middle;\n    }\n\n    .dataframe tbody tr th {\n        vertical-align: top;\n    }\n\n    .dataframe thead th {\n        text-align: right;\n    }\n</style>\n<table border=\"1\" class=\"dataframe\">\n  <thead>\n    <tr style=\"text-align: right;\">\n      <th></th>\n      <th>Adubo</th>\n      <th>Dose</th>\n      <th>Bloco</th>\n      <th>y</th>\n    </tr>\n  </thead>\n  <tbody>\n    <tr>\n      <th>0</th>\n      <td>1</td>\n      <td>1</td>\n      <td>1</td>\n      <td>2747</td>\n    </tr>\n    <tr>\n      <th>1</th>\n      <td>1</td>\n      <td>1</td>\n      <td>2</td>\n      <td>2702</td>\n    </tr>\n    <tr>\n      <th>2</th>\n      <td>1</td>\n      <td>1</td>\n      <td>3</td>\n      <td>2671</td>\n    </tr>\n    <tr>\n      <th>3</th>\n      <td>1</td>\n      <td>1</td>\n      <td>4</td>\n      <td>2547</td>\n    </tr>\n    <tr>\n      <th>4</th>\n      <td>1</td>\n      <td>2</td>\n      <td>1</td>\n      <td>2889</td>\n    </tr>\n    <tr>\n      <th>5</th>\n      <td>1</td>\n      <td>2</td>\n      <td>2</td>\n      <td>2731</td>\n    </tr>\n    <tr>\n      <th>6</th>\n      <td>1</td>\n      <td>2</td>\n      <td>3</td>\n      <td>2633</td>\n    </tr>\n    <tr>\n      <th>7</th>\n      <td>1</td>\n      <td>2</td>\n      <td>4</td>\n      <td>2756</td>\n    </tr>\n    <tr>\n      <th>8</th>\n      <td>1</td>\n      <td>3</td>\n      <td>1</td>\n      <td>3578</td>\n    </tr>\n    <tr>\n      <th>9</th>\n      <td>1</td>\n      <td>3</td>\n      <td>2</td>\n      <td>3387</td>\n    </tr>\n    <tr>\n      <th>10</th>\n      <td>1</td>\n      <td>3</td>\n      <td>3</td>\n      <td>3858</td>\n    </tr>\n    <tr>\n      <th>11</th>\n      <td>1</td>\n      <td>3</td>\n      <td>4</td>\n      <td>4284</td>\n    </tr>\n    <tr>\n      <th>12</th>\n      <td>2</td>\n      <td>1</td>\n      <td>1</td>\n      <td>3164</td>\n    </tr>\n    <tr>\n      <th>13</th>\n      <td>2</td>\n      <td>1</td>\n      <td>2</td>\n      <td>2658</td>\n    </tr>\n    <tr>\n      <th>14</th>\n      <td>2</td>\n      <td>1</td>\n      <td>3</td>\n      <td>3600</td>\n    </tr>\n    <tr>\n      <th>15</th>\n      <td>2</td>\n      <td>1</td>\n      <td>4</td>\n      <td>2760</td>\n    </tr>\n    <tr>\n      <th>16</th>\n      <td>2</td>\n      <td>2</td>\n      <td>1</td>\n      <td>3831</td>\n    </tr>\n    <tr>\n      <th>17</th>\n      <td>2</td>\n      <td>2</td>\n      <td>2</td>\n      <td>3049</td>\n    </tr>\n    <tr>\n      <th>18</th>\n      <td>2</td>\n      <td>2</td>\n      <td>3</td>\n      <td>4182</td>\n    </tr>\n    <tr>\n      <th>19</th>\n      <td>2</td>\n      <td>2</td>\n      <td>4</td>\n      <td>3102</td>\n    </tr>\n    <tr>\n      <th>20</th>\n      <td>2</td>\n      <td>3</td>\n      <td>1</td>\n      <td>4107</td>\n    </tr>\n    <tr>\n      <th>21</th>\n      <td>2</td>\n      <td>3</td>\n      <td>2</td>\n      <td>3031</td>\n    </tr>\n    <tr>\n      <th>22</th>\n      <td>2</td>\n      <td>3</td>\n      <td>3</td>\n      <td>3791</td>\n    </tr>\n    <tr>\n      <th>23</th>\n      <td>2</td>\n      <td>3</td>\n      <td>4</td>\n      <td>3547</td>\n    </tr>\n    <tr>\n      <th>24</th>\n      <td>3</td>\n      <td>1</td>\n      <td>1</td>\n      <td>1902</td>\n    </tr>\n    <tr>\n      <th>25</th>\n      <td>3</td>\n      <td>1</td>\n      <td>2</td>\n      <td>1773</td>\n    </tr>\n    <tr>\n      <th>26</th>\n      <td>3</td>\n      <td>1</td>\n      <td>3</td>\n      <td>3440</td>\n    </tr>\n    <tr>\n      <th>27</th>\n      <td>3</td>\n      <td>1</td>\n      <td>4</td>\n      <td>2347</td>\n    </tr>\n    <tr>\n      <th>28</th>\n      <td>3</td>\n      <td>2</td>\n      <td>1</td>\n      <td>2547</td>\n    </tr>\n    <tr>\n      <th>29</th>\n      <td>3</td>\n      <td>2</td>\n      <td>2</td>\n      <td>2642</td>\n    </tr>\n    <tr>\n      <th>30</th>\n      <td>3</td>\n      <td>2</td>\n      <td>3</td>\n      <td>3347</td>\n    </tr>\n    <tr>\n      <th>31</th>\n      <td>3</td>\n      <td>2</td>\n      <td>4</td>\n      <td>2924</td>\n    </tr>\n    <tr>\n      <th>32</th>\n      <td>3</td>\n      <td>3</td>\n      <td>1</td>\n      <td>3364</td>\n    </tr>\n    <tr>\n      <th>33</th>\n      <td>3</td>\n      <td>3</td>\n      <td>2</td>\n      <td>2427</td>\n    </tr>\n    <tr>\n      <th>34</th>\n      <td>3</td>\n      <td>3</td>\n      <td>3</td>\n      <td>4053</td>\n    </tr>\n    <tr>\n      <th>35</th>\n      <td>3</td>\n      <td>3</td>\n      <td>4</td>\n      <td>3111</td>\n    </tr>\n    <tr>\n      <th>36</th>\n      <td>4</td>\n      <td>1</td>\n      <td>1</td>\n      <td>2978</td>\n    </tr>\n    <tr>\n      <th>37</th>\n      <td>4</td>\n      <td>1</td>\n      <td>2</td>\n      <td>2769</td>\n    </tr>\n    <tr>\n      <th>38</th>\n      <td>4</td>\n      <td>1</td>\n      <td>3</td>\n      <td>2640</td>\n    </tr>\n    <tr>\n      <th>39</th>\n      <td>4</td>\n      <td>1</td>\n      <td>4</td>\n      <td>2542</td>\n    </tr>\n    <tr>\n      <th>40</th>\n      <td>4</td>\n      <td>2</td>\n      <td>1</td>\n      <td>3451</td>\n    </tr>\n    <tr>\n      <th>41</th>\n      <td>4</td>\n      <td>2</td>\n      <td>2</td>\n      <td>2258</td>\n    </tr>\n    <tr>\n      <th>42</th>\n      <td>4</td>\n      <td>2</td>\n      <td>3</td>\n      <td>2478</td>\n    </tr>\n    <tr>\n      <th>43</th>\n      <td>4</td>\n      <td>2</td>\n      <td>4</td>\n      <td>2562</td>\n    </tr>\n    <tr>\n      <th>44</th>\n      <td>4</td>\n      <td>3</td>\n      <td>1</td>\n      <td>3742</td>\n    </tr>\n    <tr>\n      <th>45</th>\n      <td>4</td>\n      <td>3</td>\n      <td>2</td>\n      <td>2498</td>\n    </tr>\n    <tr>\n      <th>46</th>\n      <td>4</td>\n      <td>3</td>\n      <td>3</td>\n      <td>3458</td>\n    </tr>\n    <tr>\n      <th>47</th>\n      <td>4</td>\n      <td>3</td>\n      <td>4</td>\n      <td>3076</td>\n    </tr>\n  </tbody>\n</table>\n</div>"
     },
     "metadata": {},
     "execution_count": 80
    }
   ],
   "source": [
    "exem2 = exem2.append(exem2[:5]) # duplicando um trecho \n",
    "exem2.duplicated() # verificando se existe casos duplicados\n",
    "exem2.drop_duplicates() # removendo as repetições"
   ]
  },
  {
   "cell_type": "code",
   "execution_count": 96,
   "metadata": {},
   "outputs": [
    {
     "output_type": "execute_result",
     "data": {
      "text/plain": [
       "[NaN, (20.0, 30.0], (20.0, 30.0], (20.0, 30.0], (20.0, 30.0], ..., (30.0, 40.0], NaN, (40.0, 50.0], (40.0, 50.0], (30.0, 40.0]]\n",
       "Length: 12\n",
       "Categories (4, interval[int64]): [(20, 30] < (30, 40] < (40, 50] < (50, 60]]"
      ]
     },
     "metadata": {},
     "execution_count": 96
    }
   ],
   "source": [
    "# divindo pod bin (intervalos)\n",
    "idade = [20, 22, 25, 27, 21, 23, 37, 31, 61, 45, 41, 32]\n",
    "bins = [20,30,40,50,60]\n",
    "gatos = pd.cut(idade, bins) # separando e virando categorica\n",
    "gatos.codes # código da cateegoria\n",
    "gatos.categories # vendo os intervalos das categorias\n",
    "\n",
    "pd.value_counts(gatos) # saida da contagem por intervalo\n",
    "\n",
    "# add uma nova categoria\n",
    "nome_intervalo = ['Youth', 'YoungAdult', 'MiddleAged', 'Senior']\n",
    "pd.cut(idade, bins, labels= nome_intervalo)\n",
    "gatos\n",
    "\n"
   ]
  },
  {
   "cell_type": "code",
   "execution_count": 105,
   "metadata": {},
   "outputs": [
    {
     "output_type": "execute_result",
     "data": {
      "text/plain": [
       "    Adubo  Dose  Bloco     y\n",
       "8       1     3      1  3578\n",
       "10      1     3      3  3858\n",
       "11      1     3      4  4284\n",
       "14      2     1      3  3600\n",
       "16      2     2      1  3831\n",
       "18      2     2      3  4182\n",
       "20      2     3      1  4107\n",
       "22      2     3      3  3791\n",
       "23      2     3      4  3547\n",
       "34      3     3      3  4053\n",
       "44      4     3      1  3742"
      ],
      "text/html": "<div>\n<style scoped>\n    .dataframe tbody tr th:only-of-type {\n        vertical-align: middle;\n    }\n\n    .dataframe tbody tr th {\n        vertical-align: top;\n    }\n\n    .dataframe thead th {\n        text-align: right;\n    }\n</style>\n<table border=\"1\" class=\"dataframe\">\n  <thead>\n    <tr style=\"text-align: right;\">\n      <th></th>\n      <th>Adubo</th>\n      <th>Dose</th>\n      <th>Bloco</th>\n      <th>y</th>\n    </tr>\n  </thead>\n  <tbody>\n    <tr>\n      <th>8</th>\n      <td>1</td>\n      <td>3</td>\n      <td>1</td>\n      <td>3578</td>\n    </tr>\n    <tr>\n      <th>10</th>\n      <td>1</td>\n      <td>3</td>\n      <td>3</td>\n      <td>3858</td>\n    </tr>\n    <tr>\n      <th>11</th>\n      <td>1</td>\n      <td>3</td>\n      <td>4</td>\n      <td>4284</td>\n    </tr>\n    <tr>\n      <th>14</th>\n      <td>2</td>\n      <td>1</td>\n      <td>3</td>\n      <td>3600</td>\n    </tr>\n    <tr>\n      <th>16</th>\n      <td>2</td>\n      <td>2</td>\n      <td>1</td>\n      <td>3831</td>\n    </tr>\n    <tr>\n      <th>18</th>\n      <td>2</td>\n      <td>2</td>\n      <td>3</td>\n      <td>4182</td>\n    </tr>\n    <tr>\n      <th>20</th>\n      <td>2</td>\n      <td>3</td>\n      <td>1</td>\n      <td>4107</td>\n    </tr>\n    <tr>\n      <th>22</th>\n      <td>2</td>\n      <td>3</td>\n      <td>3</td>\n      <td>3791</td>\n    </tr>\n    <tr>\n      <th>23</th>\n      <td>2</td>\n      <td>3</td>\n      <td>4</td>\n      <td>3547</td>\n    </tr>\n    <tr>\n      <th>34</th>\n      <td>3</td>\n      <td>3</td>\n      <td>3</td>\n      <td>4053</td>\n    </tr>\n    <tr>\n      <th>44</th>\n      <td>4</td>\n      <td>3</td>\n      <td>1</td>\n      <td>3742</td>\n    </tr>\n  </tbody>\n</table>\n</div>"
     },
     "metadata": {},
     "execution_count": 105
    }
   ],
   "source": [
    "# filtrando\n",
    "exem2.y[(exem2.y) > 3500] # em uma coluna\n",
    "exem2[(exem2.y>3500)] # por um coluna no bd todo"
   ]
  },
  {
   "cell_type": "code",
   "execution_count": 114,
   "metadata": {},
   "outputs": [
    {
     "output_type": "execute_result",
     "data": {
      "text/plain": [
       "'abacaxi::melão::pepino::a::d::r::apfel'"
      ]
     },
     "metadata": {},
     "execution_count": 114
    }
   ],
   "source": [
    "# manipulando string\n",
    "texto = 'abacaxi, melão, pepino, a, d, r, apfel'\n",
    "texto.split(', ')\n",
    "\n",
    "# reescrevendo\n",
    "lista = [x.strip() for x in texto.split(', ')]\n",
    "# criando substring\n",
    "um, dois, tres, quatro, cinco, seis, sete = lista\n",
    "'::'.join(lista)"
   ]
  },
  {
   "cell_type": "code",
   "execution_count": 115,
   "metadata": {},
   "outputs": [
    {
     "output_type": "execute_result",
     "data": {
      "text/plain": [
       "True"
      ]
     },
     "metadata": {},
     "execution_count": 115
    }
   ],
   "source": [
    "# comparação de texto\n",
    "\"melão\" in lista"
   ]
  },
  {
   "cell_type": "code",
   "execution_count": 116,
   "metadata": {},
   "outputs": [
    {
     "output_type": "execute_result",
     "data": {
      "text/plain": [
       "False"
      ]
     },
     "metadata": {},
     "execution_count": 116
    }
   ],
   "source": [
    "'banana' in lista"
   ]
  },
  {
   "cell_type": "code",
   "execution_count": null,
   "metadata": {},
   "outputs": [],
   "source": []
  }
 ]
}