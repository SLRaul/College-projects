{
 "metadata": {
  "language_info": {
   "codemirror_mode": {
    "name": "ipython",
    "version": 3
   },
   "file_extension": ".py",
   "mimetype": "text/x-python",
   "name": "python",
   "nbconvert_exporter": "python",
   "pygments_lexer": "ipython3",
   "version": "3.8.5"
  },
  "orig_nbformat": 2,
  "kernelspec": {
   "name": "python3",
   "display_name": "Python 3",
   "language": "python"
  }
 },
 "nbformat": 4,
 "nbformat_minor": 2,
 "cells": [
  {
   "cell_type": "code",
   "execution_count": 3,
   "metadata": {},
   "outputs": [],
   "source": [
    "import numpy as np \n",
    "import pandas as pd \n",
    "import matplotlib.pyplot as plt \n",
    "import seaborn as sns \n",
    "import statsmodels as sm\n"
   ]
  },
  {
   "cell_type": "code",
   "execution_count": 5,
   "metadata": {},
   "outputs": [
    {
     "output_type": "execute_result",
     "data": {
      "text/plain": [
       "('zoo', [1, 2, 3, 4], True)"
      ]
     },
     "metadata": {},
     "execution_count": 5
    }
   ],
   "source": [
    "# tuple - imutavel\n",
    "tup = 1,2,3 # ou # tup = (1,2,3)\n",
    "# pode ter uma list dentro de uma tuple\n",
    "tup2 = tuple(['zoo', [1,2,3], True])\n",
    "tup2[1]\n",
    "# so pode mudar se tiver uma list dentro\n",
    "tup2[1].append(4)\n",
    "tup2"
   ]
  },
  {
   "cell_type": "code",
   "execution_count": 7,
   "metadata": {},
   "outputs": [
    {
     "output_type": "stream",
     "name": "stdout",
     "text": [
      "[1, 2, 3]\n[1, 2, 3, 4]\n[2, 3, 4]\n"
     ]
    }
   ],
   "source": [
    "# list -  mutável\n",
    "lista = [1,2,3]\n",
    "print(lista)\n",
    "lista.append(4)\n",
    "print(lista)\n",
    "lista.remove(1)\n",
    "print(lista)"
   ]
  },
  {
   "cell_type": "code",
   "execution_count": 9,
   "metadata": {},
   "outputs": [
    {
     "output_type": "stream",
     "name": "stdout",
     "text": [
      "[8, 2, 3, 4, 6, 6]\n[8, 8, 2, 3, 4, 6, 6]\n"
     ]
    }
   ],
   "source": [
    "# adicionar elemento\n",
    "lista.append(6)\n",
    "print(lista)\n",
    "# adicionar em uma posição\n",
    "lista.insert(0,8)\n",
    "print(lista)"
   ]
  },
  {
   "cell_type": "code",
   "execution_count": 11,
   "metadata": {},
   "outputs": [
    {
     "output_type": "execute_result",
     "data": {
      "text/plain": [
       "True"
      ]
     },
     "metadata": {},
     "execution_count": 11
    }
   ],
   "source": [
    "# pode identificar padroes de string\n",
    "lista2 = ['ab', 'bc', 'cd', 'de','ef']\n",
    "'bc' in lista2 "
   ]
  },
  {
   "cell_type": "code",
   "execution_count": 13,
   "metadata": {},
   "outputs": [
    {
     "output_type": "execute_result",
     "data": {
      "text/plain": [
       "[2, 3, 4, 6, 6, 8, 8]"
      ]
     },
     "metadata": {},
     "execution_count": 13
    }
   ],
   "source": [
    "# ordenar\n",
    "lista.sort()\n",
    "lista"
   ]
  },
  {
   "cell_type": "code",
   "execution_count": 15,
   "metadata": {},
   "outputs": [
    {
     "output_type": "stream",
     "name": "stdout",
     "text": [
      "[1, 1, 2, 2, 2, 3, 4, 5, 7]\n[1, 1, 2, 2, 2, 3, 4, 5, 7, 8]\n"
     ]
    }
   ],
   "source": [
    "import bisect # procura binária e inserção em lista ordenada\n",
    "exe = [1,1,2,2,2,3,4,7]\n",
    "# indica a posição \n",
    "bisect.bisect(exe, 2)\n",
    "# quando o elemnto não está ele indica a posição que ficaria\n",
    "bisect.bisect(exe, 8) \n",
    " # adicionando com ordenação\n",
    "bisect.insort(exe, 5)\n",
    "print(exe)\n",
    "bisect.insort(exe, 8)\n",
    "print(exe)"
   ]
  },
  {
   "cell_type": "code",
   "execution_count": 17,
   "metadata": {},
   "outputs": [
    {
     "output_type": "stream",
     "name": "stdout",
     "text": [
      "[1, 1, 2, 2, 2, 3, 4, 5, 7, 8, 9, 10, 11, 11, 10, 9]\n[1, 1, 2, 2, 2, 3, 4, 5, 7, 8, 9, 9, 10, 10, 11, 11]\n"
     ]
    }
   ],
   "source": [
    "# Concatenando\n",
    "exe + [9,10,11]\n",
    "more=[11,10,9]\n",
    "exe = exe+more\n",
    "print(exe)\n",
    "exe.sort()\n",
    "print(exe)"
   ]
  },
  {
   "cell_type": "code",
   "execution_count": 19,
   "metadata": {},
   "outputs": [
    {
     "output_type": "execute_result",
     "data": {
      "text/plain": [
       "[('foo', 'one'), ('bar', 'two'), ('baz', 'three')]"
      ]
     },
     "metadata": {},
     "execution_count": 19
    }
   ],
   "source": [
    "# zip - forma pares de duas listas diferente\n",
    "seq1 = ['foo', 'bar', 'baz']\n",
    "seq2 = ['one', 'two', 'three']\n",
    "zipou = zip(seq1, seq2)\n",
    "list(zipou)\n"
   ]
  },
  {
   "cell_type": "code",
   "execution_count": 21,
   "metadata": {},
   "outputs": [
    {
     "output_type": "execute_result",
     "data": {
      "text/plain": [
       "defaultdict(list,\n",
       "            {'a': ['apple', 'atom'],\n",
       "             'b': ['bat', 'bar', 'book'],\n",
       "             'c': ['corretivo', 'car']})"
      ]
     },
     "metadata": {},
     "execution_count": 21
    }
   ],
   "source": [
    "\n",
    "# separando por letra inicial\n",
    "words = ['apple', 'bat','corretivo','bar', 'atom', 'book', 'car']\n",
    "por_letra={}\n",
    "\n",
    "# jeito longo\n",
    "for palavra in words:\n",
    "    letra = palavra[0]\n",
    "    if letra not in por_letra:\n",
    "        por_letra[letra] = [palavra]\n",
    "    else:\n",
    "            por_letra[letra].append(palavra)\n",
    "por_letra\n",
    "\n",
    "# reescrevenoa função\n",
    "for palavra in words:\n",
    "    palavra = palavra[0]\n",
    "    por_letra.setdefault(palavra,[]).append(palavra)\n",
    "por_letra\n",
    "\n",
    "# reescrevendo utilizando defaultdict\n",
    "from collections import defaultdict\n",
    "por_letra = defaultdict(list)\n",
    "for palavra in words:\n",
    "    por_letra[palavra[0]].append(palavra)\n",
    "por_letra"
   ]
  },
  {
   "cell_type": "code",
   "execution_count": 23,
   "metadata": {},
   "outputs": [
    {
     "output_type": "stream",
     "name": "stdout",
     "text": [
      "{1, 2, 3, 4, 5, 6, 7, 8, 9, 10}\n{2, 3, 5, 7}\n"
     ]
    }
   ],
   "source": [
    "# set - coleção de elmentos unicos\n",
    "# suporta operções de conjuntos\n",
    "# pode ser criado por meio de função set() ou por {}\n",
    "a = {1,3,5,7,9}\n",
    "b = {2,4,6,8,10}\n",
    "c = {2,3,5,7}\n",
    "ab_união = a.union(b) # ou # ab_união = a|b\n",
    "print(ab_união)\n",
    "\n",
    "ab_inter_c = ab_união.intersection(c)\n",
    "print(ab_inter_c)\n",
    "\n",
    "\n"
   ]
  },
  {
   "cell_type": "code",
   "execution_count": 25,
   "metadata": {},
   "outputs": [
    {
     "output_type": "execute_result",
     "data": {
      "text/plain": [
       "{'apple': 0,\n",
       " 'bat': 1,\n",
       " 'corretivo': 2,\n",
       " 'bar': 3,\n",
       " 'atom': 4,\n",
       " 'book': 5,\n",
       " 'car': 6}"
      ]
     },
     "metadata": {},
     "execution_count": 25
    }
   ],
   "source": [
    "# List comprehensions\n",
    "# isso:\n",
    "# [expr for val in collection if condition]\n",
    "# equivale a isso:\n",
    "# result = []\n",
    "# for val in collection:\n",
    "#     if condition:\n",
    "#         result.append(expr)\n",
    "words\n",
    "# retorna as palavras maiores que n\n",
    "[x.upper() for x in words if len(x) > 3]\n",
    "\n",
    "# retorna o tamanho das palavras\n",
    "{len(x) for x in words} \n",
    "\n",
    "# diz a posição das strinngs (mapeando)\n",
    "{valor : index for index, valor in enumerate(words)}"
   ]
  },
  {
   "cell_type": "code",
   "execution_count": 38,
   "metadata": {},
   "outputs": [
    {
     "output_type": "execute_result",
     "data": {
      "text/plain": [
       "['Alabama',\n",
       " 'Georgia ',\n",
       " 'Georgia',\n",
       " 'Georgia',\n",
       " 'Florida',\n",
       " 'South Carolina  ',\n",
       " 'West Virginia ']"
      ]
     },
     "metadata": {},
     "execution_count": 38
    }
   ],
   "source": [
    "# funções\n",
    "# limpeza de carateres\n",
    "us_estados = [' Alabama ', 'Georgia!', 'Georgia', 'georgia','FlOrIda', 'south carolina##', 'West virginia?']\n",
    "\n",
    "import re #padronização\n",
    "def clean_strings(strings):\n",
    "    result = []\n",
    "    for value in strings:\n",
    "        value = value.strip()\n",
    "        value = re.sub('[!#?]', ' ', value)\n",
    "        value = value.title()\n",
    "        result.append(value)\n",
    "    return result\n",
    "\n",
    "us_estados = clean_strings(us_estados)\n",
    "us_estados\n"
   ]
  },
  {
   "cell_type": "code",
   "execution_count": 39,
   "metadata": {},
   "outputs": [
    {
     "output_type": "stream",
     "name": "stdout",
     "text": [
      "A ['Alabama']\nG ['Georgia ', 'Georgia', 'Georgia']\nF ['Florida']\nS ['South Carolina  ']\nW ['West Virginia ']\n"
     ]
    }
   ],
   "source": [
    "# itertools - função que cria iteratores para loops mais eficientes\n",
    "import itertools\n",
    "\n",
    "primeira_letra = lambda x: x[0]\n",
    "\n",
    "for letra, us_estados in itertools.groupby(us_estados, primeira_letra):\n",
    "    print(letra, list(us_estados))"
   ]
  },
  {
   "cell_type": "code",
   "execution_count": 52,
   "metadata": {},
   "outputs": [
    {
     "output_type": "stream",
     "name": "stdout",
     "text": [
      "<_io.TextIOWrapper name='cakes.txt' mode='r' encoding='UTF-8'>\n"
     ]
    },
    {
     "output_type": "execute_result",
     "data": {
      "text/plain": [
       "['block X1 X2 Y',\n",
       " '0 33 340 3.89',\n",
       " '0 37 340 6.36',\n",
       " '0 33 360 7.65',\n",
       " '0 37 360 6.79',\n",
       " '0 35 350 8.36',\n",
       " '0 35 350 7.63',\n",
       " '0 35 350 8.12',\n",
       " '1 37.8284271247462 350 8.4',\n",
       " '1 32.1715728752538 350 5.38',\n",
       " '1 35 364.142135623731 7',\n",
       " '1 35 335.857864376269 4.51',\n",
       " '1 35 350 7.81',\n",
       " '1 35 350 8.44',\n",
       " '1 35 350 8.06']"
      ]
     },
     "metadata": {},
     "execution_count": 52
    }
   ],
   "source": [
    "path = 'cakes.txt'\n",
    "teste = open(path) #pra funcionar tem que esta rna mesma pasta/diretório do arquivo\n",
    "print(teste)\n",
    "teste.close\n",
    "for l in teste:\n",
    "    pass\n",
    "linha = [l.rstrip()  for l in open(path)]\n",
    "linha"
   ]
  },
  {
   "cell_type": "code",
   "execution_count": null,
   "metadata": {},
   "outputs": [],
   "source": []
  }
 ]
}